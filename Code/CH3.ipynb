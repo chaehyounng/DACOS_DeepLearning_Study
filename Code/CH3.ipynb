{
  "nbformat": 4,
  "nbformat_minor": 0,
  "metadata": {
    "colab": {
      "provenance": []
    },
    "kernelspec": {
      "name": "python3",
      "display_name": "Python 3"
    },
    "language_info": {
      "name": "python"
    }
  },
  "cells": [
    {
      "cell_type": "markdown",
      "source": [
        "# 3장: 케라스와 텐서플로 소개"
      ],
      "metadata": {
        "id": "28a3aIfAWnG9"
      }
    },
    {
      "cell_type": "markdown",
      "source": [
        "## 3.5 텐서플로 시작하기"
      ],
      "metadata": {
        "id": "1kOvFRm4Wtfi"
      }
    },
    {
      "cell_type": "markdown",
      "source": [
        "### 3.5.1 상수 텐서와 변수"
      ],
      "metadata": {
        "id": "AyM3T0__WvPk"
      }
    },
    {
      "cell_type": "markdown",
      "source": [
        "3-1 모두 1 또는 0인 텐서"
      ],
      "metadata": {
        "id": "thznCrgiXKHS"
      }
    },
    {
      "cell_type": "code",
      "execution_count": null,
      "metadata": {
        "id": "bmmARVyVWaJX"
      },
      "outputs": [],
      "source": [
        "import tensorflow as tf"
      ]
    },
    {
      "cell_type": "code",
      "source": [
        "x = tf.ones(shape=(2,1))  # np.ones(shape=(2,1))과 동일\n",
        "print(x)"
      ],
      "metadata": {
        "colab": {
          "base_uri": "https://localhost:8080/"
        },
        "id": "0xoomlRQW0jD",
        "outputId": "ddf4df2b-68ee-4fe7-c131-c305a9ae2f53"
      },
      "execution_count": null,
      "outputs": [
        {
          "output_type": "stream",
          "name": "stdout",
          "text": [
            "tf.Tensor(\n",
            "[[1.]\n",
            " [1.]], shape=(2, 1), dtype=float32)\n"
          ]
        }
      ]
    },
    {
      "cell_type": "code",
      "source": [
        "x = tf.zeros(shape=(2,1))  # np.zeros(shape=(2,1))과 동일\n",
        "print(x)"
      ],
      "metadata": {
        "colab": {
          "base_uri": "https://localhost:8080/"
        },
        "id": "zP4U7i_DXVd9",
        "outputId": "8a44903b-a19a-4b04-fc9b-2dcb4af028c5"
      },
      "execution_count": null,
      "outputs": [
        {
          "output_type": "stream",
          "name": "stdout",
          "text": [
            "tf.Tensor(\n",
            "[[0.]\n",
            " [0.]], shape=(2, 1), dtype=float32)\n"
          ]
        }
      ]
    },
    {
      "cell_type": "markdown",
      "source": [
        "3-2 랜덤 텐서"
      ],
      "metadata": {
        "id": "ddklAZsrXfAn"
      }
    },
    {
      "cell_type": "code",
      "source": [
        "x = tf.random.normal(shape=(3,1), mean=0, stddev=1.)  # 평균 0, 표준편차 1인 정규분포에서 뽑은 랜덤한 값, np.random.normal(size=(3,1), loc=0., scale=1.)과 같\n",
        "print(x)"
      ],
      "metadata": {
        "colab": {
          "base_uri": "https://localhost:8080/"
        },
        "id": "sHYan6lKXdTT",
        "outputId": "b95874ae-dfa6-4e49-e256-00037484be2f"
      },
      "execution_count": null,
      "outputs": [
        {
          "output_type": "stream",
          "name": "stdout",
          "text": [
            "tf.Tensor(\n",
            "[[-1.7956871 ]\n",
            " [-0.22508152]\n",
            " [-0.5733359 ]], shape=(3, 1), dtype=float32)\n"
          ]
        }
      ]
    },
    {
      "cell_type": "code",
      "source": [
        "x = tf.random.uniform(shape=(3,1), minval=0., maxval=1.)  # 0과 1 사이의 균등분포에서 뽑은 랜덤한 값으로 만든 텐서, np.random.uniform(size=(3,1), low=0., high=1.)과 같\n",
        "print(x)"
      ],
      "metadata": {
        "colab": {
          "base_uri": "https://localhost:8080/"
        },
        "id": "RfK38FjjXxy4",
        "outputId": "014a3b44-2f0f-4561-c35d-be5d91ceb90f"
      },
      "execution_count": null,
      "outputs": [
        {
          "output_type": "stream",
          "name": "stdout",
          "text": [
            "tf.Tensor(\n",
            "[[0.94280076]\n",
            " [0.4619665 ]\n",
            " [0.6170273 ]], shape=(3, 1), dtype=float32)\n"
          ]
        }
      ]
    },
    {
      "cell_type": "markdown",
      "source": [
        "3-3 넘파이 배열에 값 할당하기"
      ],
      "metadata": {
        "id": "8ZP1S_YEYJVd"
      }
    },
    {
      "cell_type": "code",
      "source": [
        "import numpy as np"
      ],
      "metadata": {
        "id": "BRszjwkKYH7a"
      },
      "execution_count": null,
      "outputs": []
    },
    {
      "cell_type": "code",
      "source": [
        "x = np.ones(shape=(2, 2))\n",
        "print(\"<before>\")\n",
        "print(x)\n",
        "x[0, 0] = 0.\n",
        "print(\"<after>\")\n",
        "print(x)"
      ],
      "metadata": {
        "colab": {
          "base_uri": "https://localhost:8080/"
        },
        "id": "9OCnoCt-YBTO",
        "outputId": "2a51d607-b1b8-4860-8886-1b20ebc1b182"
      },
      "execution_count": null,
      "outputs": [
        {
          "output_type": "stream",
          "name": "stdout",
          "text": [
            "<before>\n",
            "[[1. 1.]\n",
            " [1. 1.]]\n",
            "<after>\n",
            "[[0. 1.]\n",
            " [1. 1.]]\n"
          ]
        }
      ]
    },
    {
      "cell_type": "markdown",
      "source": [
        "3-4 텐서플로 텐서에 값을 할당하지 못함"
      ],
      "metadata": {
        "id": "Ljc90FrJYf-B"
      }
    },
    {
      "cell_type": "code",
      "source": [
        "x = tf.ones(shape=(2, 2))\n",
        "x[0, 0] = 0."
      ],
      "metadata": {
        "colab": {
          "base_uri": "https://localhost:8080/",
          "height": 201
        },
        "id": "RTXItK8vYaRv",
        "outputId": "33c1338b-9222-40c6-d0c8-a9c9247ed452"
      },
      "execution_count": null,
      "outputs": [
        {
          "output_type": "error",
          "ename": "TypeError",
          "evalue": "ignored",
          "traceback": [
            "\u001b[0;31m---------------------------------------------------------------------------\u001b[0m",
            "\u001b[0;31mTypeError\u001b[0m                                 Traceback (most recent call last)",
            "\u001b[0;32m<ipython-input-8-09deea229eff>\u001b[0m in \u001b[0;36m<cell line: 2>\u001b[0;34m()\u001b[0m\n\u001b[1;32m      1\u001b[0m \u001b[0mx\u001b[0m \u001b[0;34m=\u001b[0m \u001b[0mtf\u001b[0m\u001b[0;34m.\u001b[0m\u001b[0mones\u001b[0m\u001b[0;34m(\u001b[0m\u001b[0mshape\u001b[0m\u001b[0;34m=\u001b[0m\u001b[0;34m(\u001b[0m\u001b[0;36m2\u001b[0m\u001b[0;34m,\u001b[0m \u001b[0;36m2\u001b[0m\u001b[0;34m)\u001b[0m\u001b[0;34m)\u001b[0m\u001b[0;34m\u001b[0m\u001b[0;34m\u001b[0m\u001b[0m\n\u001b[0;32m----> 2\u001b[0;31m \u001b[0mx\u001b[0m\u001b[0;34m[\u001b[0m\u001b[0;36m0\u001b[0m\u001b[0;34m,\u001b[0m \u001b[0;36m0\u001b[0m\u001b[0;34m]\u001b[0m \u001b[0;34m=\u001b[0m \u001b[0;36m0.\u001b[0m\u001b[0;34m\u001b[0m\u001b[0;34m\u001b[0m\u001b[0m\n\u001b[0m",
            "\u001b[0;31mTypeError\u001b[0m: 'tensorflow.python.framework.ops.EagerTensor' object does not support item assignment"
          ]
        }
      ]
    },
    {
      "cell_type": "markdown",
      "source": [
        "3-5 텐서플로 변수 만들기"
      ],
      "metadata": {
        "id": "ta1POgbVYnQ-"
      }
    },
    {
      "cell_type": "code",
      "source": [
        "v = tf.Variable(initial_value = tf.random.normal(shape=(3,1)))\n",
        "print(v)"
      ],
      "metadata": {
        "colab": {
          "base_uri": "https://localhost:8080/"
        },
        "id": "ucBkBiV_YmAX",
        "outputId": "35acadf4-f679-4475-add6-13fe4e76165e"
      },
      "execution_count": null,
      "outputs": [
        {
          "output_type": "stream",
          "name": "stdout",
          "text": [
            "<tf.Variable 'Variable:0' shape=(3, 1) dtype=float32, numpy=\n",
            "array([[-2.7240684 ],\n",
            "       [-0.7122551 ],\n",
            "       [ 0.31443766]], dtype=float32)>\n"
          ]
        }
      ]
    },
    {
      "cell_type": "markdown",
      "source": [
        "3-6 텐서플로 변수에 값 할당하기"
      ],
      "metadata": {
        "id": "NPOsI3fJY-4e"
      }
    },
    {
      "cell_type": "code",
      "source": [
        "# assign하면서 값 변경 가능\n",
        "v.assign(tf.ones((3,1)))"
      ],
      "metadata": {
        "colab": {
          "base_uri": "https://localhost:8080/"
        },
        "id": "Bgb7uqs5Y-tW",
        "outputId": "6974a4f6-fba0-492c-f1ee-2635e83aa20f"
      },
      "execution_count": null,
      "outputs": [
        {
          "output_type": "execute_result",
          "data": {
            "text/plain": [
              "<tf.Variable 'UnreadVariable' shape=(3, 1) dtype=float32, numpy=\n",
              "array([[1.],\n",
              "       [1.],\n",
              "       [1.]], dtype=float32)>"
            ]
          },
          "metadata": {},
          "execution_count": 11
        }
      ]
    },
    {
      "cell_type": "markdown",
      "source": [
        "3-7 변수 일부에 값 할당하기"
      ],
      "metadata": {
        "id": "m4oqbmahZJe-"
      }
    },
    {
      "cell_type": "code",
      "source": [
        "v[0, 0].assign(3.)"
      ],
      "metadata": {
        "colab": {
          "base_uri": "https://localhost:8080/"
        },
        "id": "IVOct6XgYutd",
        "outputId": "5834d945-3009-48dc-f2cc-f512ce99161f"
      },
      "execution_count": null,
      "outputs": [
        {
          "output_type": "execute_result",
          "data": {
            "text/plain": [
              "<tf.Variable 'UnreadVariable' shape=(3, 1) dtype=float32, numpy=\n",
              "array([[3.],\n",
              "       [1.],\n",
              "       [1.]], dtype=float32)>"
            ]
          },
          "metadata": {},
          "execution_count": 12
        }
      ]
    },
    {
      "cell_type": "markdown",
      "source": [
        "3-8 assign_add() 사용해보기"
      ],
      "metadata": {
        "id": "6TgSnZZ9ZPxk"
      }
    },
    {
      "cell_type": "code",
      "source": [
        "# 1로 이루어진 (3,1) 행렬에 v를 더하라\n",
        "v.assign_add(tf.ones((3, 1)))"
      ],
      "metadata": {
        "colab": {
          "base_uri": "https://localhost:8080/"
        },
        "id": "1CVBxWNHZNR4",
        "outputId": "87ef583a-45fa-4286-e2f2-19b154c9216b"
      },
      "execution_count": null,
      "outputs": [
        {
          "output_type": "execute_result",
          "data": {
            "text/plain": [
              "<tf.Variable 'UnreadVariable' shape=(3, 1) dtype=float32, numpy=\n",
              "array([[4.],\n",
              "       [2.],\n",
              "       [2.]], dtype=float32)>"
            ]
          },
          "metadata": {},
          "execution_count": 13
        }
      ]
    },
    {
      "cell_type": "markdown",
      "source": [
        "### 3.5.2 텐서 연산: 텐서플로에서 수학 계산하기"
      ],
      "metadata": {
        "id": "vD8YGgBfaMLa"
      }
    },
    {
      "cell_type": "markdown",
      "source": [
        "3-9 기본적인 수학 연산"
      ],
      "metadata": {
        "id": "M96il9ivaQlj"
      }
    },
    {
      "cell_type": "code",
      "source": [
        "a = tf.ones((2, 2))\n",
        "b = tf.square(a)\n",
        "c = tf.sqrt(a)\n",
        "d = b + c  # 원소별 덧셈\n",
        "e = tf.matmul(a, b)  # 두 벡터의 점곱"
      ],
      "metadata": {
        "id": "AVbhaXaSZgV8"
      },
      "execution_count": null,
      "outputs": []
    },
    {
      "cell_type": "code",
      "source": [
        "a"
      ],
      "metadata": {
        "colab": {
          "base_uri": "https://localhost:8080/"
        },
        "id": "0-R5Lzw1akSS",
        "outputId": "25e966ef-d8ca-4295-a977-b4fcfb8fa578"
      },
      "execution_count": null,
      "outputs": [
        {
          "output_type": "execute_result",
          "data": {
            "text/plain": [
              "<tf.Tensor: shape=(2, 2), dtype=float32, numpy=\n",
              "array([[1., 1.],\n",
              "       [1., 1.]], dtype=float32)>"
            ]
          },
          "metadata": {},
          "execution_count": 15
        }
      ]
    },
    {
      "cell_type": "code",
      "source": [
        "b"
      ],
      "metadata": {
        "colab": {
          "base_uri": "https://localhost:8080/"
        },
        "id": "JmwLgJF2alQb",
        "outputId": "e8dec312-8807-43c4-e33d-8287f3a59d97"
      },
      "execution_count": null,
      "outputs": [
        {
          "output_type": "execute_result",
          "data": {
            "text/plain": [
              "<tf.Tensor: shape=(2, 2), dtype=float32, numpy=\n",
              "array([[1., 1.],\n",
              "       [1., 1.]], dtype=float32)>"
            ]
          },
          "metadata": {},
          "execution_count": 16
        }
      ]
    },
    {
      "cell_type": "code",
      "source": [
        "c"
      ],
      "metadata": {
        "colab": {
          "base_uri": "https://localhost:8080/"
        },
        "id": "TCXBABruam8N",
        "outputId": "1a6e870d-8381-48d1-c87d-41bd8d6a2384"
      },
      "execution_count": null,
      "outputs": [
        {
          "output_type": "execute_result",
          "data": {
            "text/plain": [
              "<tf.Tensor: shape=(2, 2), dtype=float32, numpy=\n",
              "array([[1., 1.],\n",
              "       [1., 1.]], dtype=float32)>"
            ]
          },
          "metadata": {},
          "execution_count": 17
        }
      ]
    },
    {
      "cell_type": "code",
      "source": [
        "d"
      ],
      "metadata": {
        "colab": {
          "base_uri": "https://localhost:8080/"
        },
        "id": "XJ3l0i6-aneG",
        "outputId": "25ff2aa3-268e-4b7f-dd5d-7e53afa6e1b6"
      },
      "execution_count": null,
      "outputs": [
        {
          "output_type": "execute_result",
          "data": {
            "text/plain": [
              "<tf.Tensor: shape=(2, 2), dtype=float32, numpy=\n",
              "array([[2., 2.],\n",
              "       [2., 2.]], dtype=float32)>"
            ]
          },
          "metadata": {},
          "execution_count": 18
        }
      ]
    },
    {
      "cell_type": "code",
      "source": [
        "e"
      ],
      "metadata": {
        "colab": {
          "base_uri": "https://localhost:8080/"
        },
        "id": "Z8Xm-YAKauZH",
        "outputId": "1f3ec436-af1b-4c23-9baf-78968f77a7bd"
      },
      "execution_count": null,
      "outputs": [
        {
          "output_type": "execute_result",
          "data": {
            "text/plain": [
              "<tf.Tensor: shape=(2, 2), dtype=float32, numpy=\n",
              "array([[2., 2.],\n",
              "       [2., 2.]], dtype=float32)>"
            ]
          },
          "metadata": {},
          "execution_count": 19
        }
      ]
    },
    {
      "cell_type": "code",
      "source": [
        "e *= d  # 두 텐서 곱하기 (원소별)"
      ],
      "metadata": {
        "id": "yKRWVm0Ua2Dh"
      },
      "execution_count": null,
      "outputs": []
    },
    {
      "cell_type": "code",
      "source": [
        "e"
      ],
      "metadata": {
        "colab": {
          "base_uri": "https://localhost:8080/"
        },
        "id": "A05w4uDAavjV",
        "outputId": "ad6676ae-39c7-44a5-8711-f9e587a1955f"
      },
      "execution_count": null,
      "outputs": [
        {
          "output_type": "execute_result",
          "data": {
            "text/plain": [
              "<tf.Tensor: shape=(2, 2), dtype=float32, numpy=\n",
              "array([[4., 4.],\n",
              "       [4., 4.]], dtype=float32)>"
            ]
          },
          "metadata": {},
          "execution_count": 21
        }
      ]
    },
    {
      "cell_type": "markdown",
      "source": [
        "### 3.5.3 Gradient API 다시 살펴보기"
      ],
      "metadata": {
        "id": "uCADJTGja4sd"
      }
    },
    {
      "cell_type": "markdown",
      "source": [
        "3-10 GradientTape 사용하기"
      ],
      "metadata": {
        "id": "Yz_l8uKca9AM"
      }
    },
    {
      "cell_type": "code",
      "source": [
        "input_var = tf.Variable(initial_value=3.)\n",
        "with tf.GradientTape() as tape:\n",
        "  result = tf.square(input_var)\n",
        "gradient = tape.gradient(result, input_var)"
      ],
      "metadata": {
        "id": "gne-4C-3bI2Y"
      },
      "execution_count": null,
      "outputs": []
    },
    {
      "cell_type": "code",
      "source": [
        "input_var"
      ],
      "metadata": {
        "colab": {
          "base_uri": "https://localhost:8080/"
        },
        "id": "5a9wQO9ucUcB",
        "outputId": "48bcedaa-451c-4359-9070-f3fb07102bc7"
      },
      "execution_count": null,
      "outputs": [
        {
          "output_type": "execute_result",
          "data": {
            "text/plain": [
              "<tf.Variable 'Variable:0' shape=() dtype=float32, numpy=3.0>"
            ]
          },
          "metadata": {},
          "execution_count": 23
        }
      ]
    },
    {
      "cell_type": "code",
      "source": [
        "result"
      ],
      "metadata": {
        "colab": {
          "base_uri": "https://localhost:8080/"
        },
        "id": "hFH85ncScLJN",
        "outputId": "545ee5c9-4ef0-47a5-d83c-ba0406e74e43"
      },
      "execution_count": null,
      "outputs": [
        {
          "output_type": "execute_result",
          "data": {
            "text/plain": [
              "<tf.Tensor: shape=(), dtype=float32, numpy=9.0>"
            ]
          },
          "metadata": {},
          "execution_count": 24
        }
      ]
    },
    {
      "cell_type": "code",
      "source": [
        "gradient"
      ],
      "metadata": {
        "colab": {
          "base_uri": "https://localhost:8080/"
        },
        "id": "FD1R2CKscYMv",
        "outputId": "6265959c-433d-410b-bc04-a3be9fae48fd"
      },
      "execution_count": null,
      "outputs": [
        {
          "output_type": "execute_result",
          "data": {
            "text/plain": [
              "<tf.Tensor: shape=(), dtype=float32, numpy=6.0>"
            ]
          },
          "metadata": {},
          "execution_count": 25
        }
      ]
    },
    {
      "cell_type": "markdown",
      "source": [
        "3-11 상수텐서 입력과 함께 GradientTape 사용하기"
      ],
      "metadata": {
        "id": "5hUYsQfAa_wc"
      }
    },
    {
      "cell_type": "code",
      "source": [
        "input_const = tf.constant(3.)\n",
        "with tf.GradientTape() as tape:\n",
        "  tape.watch(input_const)\n",
        "  result = tf.square(input_const)\n",
        "gradient = tape.gradient(result, input_const)"
      ],
      "metadata": {
        "id": "IKWHdy_abJhU"
      },
      "execution_count": null,
      "outputs": []
    },
    {
      "cell_type": "code",
      "source": [
        "input_const"
      ],
      "metadata": {
        "colab": {
          "base_uri": "https://localhost:8080/"
        },
        "id": "SNR5-zrZchUb",
        "outputId": "9f28af40-e92d-46e6-8a5f-a3e7e50fcb22"
      },
      "execution_count": null,
      "outputs": [
        {
          "output_type": "execute_result",
          "data": {
            "text/plain": [
              "<tf.Tensor: shape=(), dtype=float32, numpy=3.0>"
            ]
          },
          "metadata": {},
          "execution_count": 27
        }
      ]
    },
    {
      "cell_type": "code",
      "source": [
        "result"
      ],
      "metadata": {
        "colab": {
          "base_uri": "https://localhost:8080/"
        },
        "id": "3TTH7X2wchHH",
        "outputId": "e83cac3e-3f60-4116-87f7-0dd8fce17a70"
      },
      "execution_count": null,
      "outputs": [
        {
          "output_type": "execute_result",
          "data": {
            "text/plain": [
              "<tf.Tensor: shape=(), dtype=float32, numpy=9.0>"
            ]
          },
          "metadata": {},
          "execution_count": 28
        }
      ]
    },
    {
      "cell_type": "code",
      "source": [
        "gradient"
      ],
      "metadata": {
        "colab": {
          "base_uri": "https://localhost:8080/"
        },
        "id": "N7pkCsqycg-j",
        "outputId": "a14d8e03-9aea-4757-a735-aaf2d91c404a"
      },
      "execution_count": null,
      "outputs": [
        {
          "output_type": "execute_result",
          "data": {
            "text/plain": [
              "<tf.Tensor: shape=(), dtype=float32, numpy=6.0>"
            ]
          },
          "metadata": {},
          "execution_count": 29
        }
      ]
    },
    {
      "cell_type": "markdown",
      "source": [
        "3-12 그레디언트 테이프 중첩하여 이계도 그래디언트 계산하기"
      ],
      "metadata": {
        "id": "oZDA1q0EbEf5"
      }
    },
    {
      "cell_type": "code",
      "source": [
        "time = tf.Variable(0.)\n",
        "with tf.GradientTape() as outer_tape:\n",
        "  with tf.GradientTape() as inner_tape:\n",
        "    position = 4.9 * time ** 2\n",
        "  speed = inner_tape.gradient(position, time)\n",
        "acceleration = outer_tape.gradient(speed, time)"
      ],
      "metadata": {
        "id": "Zh7vnvnJawP8"
      },
      "execution_count": null,
      "outputs": []
    },
    {
      "cell_type": "code",
      "source": [
        "time"
      ],
      "metadata": {
        "colab": {
          "base_uri": "https://localhost:8080/"
        },
        "id": "rfKbNIEscqEH",
        "outputId": "1f5ce77a-cee6-4041-942f-d30d30d63cc1"
      },
      "execution_count": null,
      "outputs": [
        {
          "output_type": "execute_result",
          "data": {
            "text/plain": [
              "<tf.Variable 'Variable:0' shape=() dtype=float32, numpy=0.0>"
            ]
          },
          "metadata": {},
          "execution_count": 31
        }
      ]
    },
    {
      "cell_type": "code",
      "source": [
        "position"
      ],
      "metadata": {
        "colab": {
          "base_uri": "https://localhost:8080/"
        },
        "id": "vUPmuix7cqul",
        "outputId": "114c378c-cdef-46d7-a7e6-384db4f87cae"
      },
      "execution_count": null,
      "outputs": [
        {
          "output_type": "execute_result",
          "data": {
            "text/plain": [
              "<tf.Tensor: shape=(), dtype=float32, numpy=0.0>"
            ]
          },
          "metadata": {},
          "execution_count": 32
        }
      ]
    },
    {
      "cell_type": "code",
      "source": [
        "speed # 9.8 * time"
      ],
      "metadata": {
        "colab": {
          "base_uri": "https://localhost:8080/"
        },
        "id": "g3qYF35Mcs8N",
        "outputId": "fe1e7a1f-05fd-4a06-89dd-04cb0b6c5974"
      },
      "execution_count": null,
      "outputs": [
        {
          "output_type": "execute_result",
          "data": {
            "text/plain": [
              "<tf.Tensor: shape=(), dtype=float32, numpy=0.0>"
            ]
          },
          "metadata": {},
          "execution_count": 33
        }
      ]
    },
    {
      "cell_type": "code",
      "source": [
        "acceleration  # 9.8"
      ],
      "metadata": {
        "colab": {
          "base_uri": "https://localhost:8080/"
        },
        "id": "VcvW8_H9cvkI",
        "outputId": "2c52a9eb-a65e-428f-e143-168e4a7bac5c"
      },
      "execution_count": null,
      "outputs": [
        {
          "output_type": "execute_result",
          "data": {
            "text/plain": [
              "<tf.Tensor: shape=(), dtype=float32, numpy=9.8>"
            ]
          },
          "metadata": {},
          "execution_count": 34
        }
      ]
    },
    {
      "cell_type": "markdown",
      "source": [
        "## 3.5.4 End-to-End 예제: 텐서플로 선형 분류기"
      ],
      "metadata": {
        "id": "AyBM86nWsFP3"
      }
    },
    {
      "cell_type": "markdown",
      "source": [
        "3-13 2D 평면에 두 클래스의 랜덤한 포인트 생성하기"
      ],
      "metadata": {
        "id": "qdn_aNeSsFIC"
      }
    },
    {
      "cell_type": "code",
      "source": [
        "# 두 포인트 클라우드는 동일한 공분산 행렬 but 다른 평균 값 -> 같은 모양 다른 위치\n",
        "num_samples_per_class = 1000\n",
        "negative_samples = np.random.multivariate_normal(  # 100개의 랜덤 포인트: cov=[[1. 0.5], [0.5, 1]] -> 왼쪽 아래에서 오른쪽 위로 향하는 타원형 포인트 클라우드 해당\n",
        "    mean = [0, 3],\n",
        "    cov=[[1, 0.5], [0.5, 1]],\n",
        "    size= num_samples_per_class\n",
        ")\n",
        "positive_samples = np.random.multivariate_normal(\n",
        "    mean = [3, 0],\n",
        "    cov=[[1, 0.5], [0.5, 1]],\n",
        "    size= num_samples_per_class\n",
        ")"
      ],
      "metadata": {
        "id": "mbykxHo2tTP2"
      },
      "execution_count": null,
      "outputs": []
    },
    {
      "cell_type": "code",
      "source": [
        "# negative samples의 좌표\n",
        "negative_samples"
      ],
      "metadata": {
        "colab": {
          "base_uri": "https://localhost:8080/"
        },
        "id": "0zDjI16zBcB5",
        "outputId": "4ffcb45c-2a56-42b5-fdd7-243faa051af8"
      },
      "execution_count": null,
      "outputs": [
        {
          "output_type": "execute_result",
          "data": {
            "text/plain": [
              "array([[ 1.75002324,  3.23906779],\n",
              "       [ 0.85209014,  2.69853733],\n",
              "       [-1.10322525,  4.58192564],\n",
              "       ...,\n",
              "       [-0.67376479,  2.22678957],\n",
              "       [ 1.16043381,  3.43257873],\n",
              "       [-0.97341726,  3.43122047]])"
            ]
          },
          "metadata": {},
          "execution_count": 45
        }
      ]
    },
    {
      "cell_type": "code",
      "source": [
        "# positive samples의 좌표\n",
        "positive_samples"
      ],
      "metadata": {
        "colab": {
          "base_uri": "https://localhost:8080/"
        },
        "id": "cpcwXyuPBeb5",
        "outputId": "42907045-7000-4165-ca8e-eec318cbcf8a"
      },
      "execution_count": null,
      "outputs": [
        {
          "output_type": "execute_result",
          "data": {
            "text/plain": [
              "array([[ 3.28746688, -0.1016464 ],\n",
              "       [ 3.64168497,  0.84498849],\n",
              "       [ 3.75250996,  1.97090842],\n",
              "       ...,\n",
              "       [ 3.90791107,  0.20390525],\n",
              "       [ 3.49880088,  1.58096448],\n",
              "       [ 3.30559883,  0.74461053]])"
            ]
          },
          "metadata": {},
          "execution_count": 46
        }
      ]
    },
    {
      "cell_type": "markdown",
      "source": [
        "3-14 두 클래스를 (2000,2) 크기의 한 배열로 쌓기"
      ],
      "metadata": {
        "id": "JLYvVPjFsRbA"
      }
    },
    {
      "cell_type": "code",
      "source": [
        "inputs = np.vstack((negative_samples, positive_samples)).astype(np.float32)"
      ],
      "metadata": {
        "id": "-HauZWUatw2J"
      },
      "execution_count": null,
      "outputs": []
    },
    {
      "cell_type": "code",
      "source": [
        "# 세로로 (positive samples, negative samples) 쌓임\n",
        "inputs"
      ],
      "metadata": {
        "colab": {
          "base_uri": "https://localhost:8080/"
        },
        "id": "sOts4QkLBa44",
        "outputId": "2a6f9fe3-54f4-442a-a295-3e9b264bb9f5"
      },
      "execution_count": null,
      "outputs": [
        {
          "output_type": "execute_result",
          "data": {
            "text/plain": [
              "array([[ 1.7500232 ,  3.2390678 ],\n",
              "       [ 0.8520901 ,  2.6985373 ],\n",
              "       [-1.1032252 ,  4.581926  ],\n",
              "       ...,\n",
              "       [ 3.907911  ,  0.20390525],\n",
              "       [ 3.498801  ,  1.5809644 ],\n",
              "       [ 3.3055987 ,  0.74461055]], dtype=float32)"
            ]
          },
          "metadata": {},
          "execution_count": 48
        }
      ]
    },
    {
      "cell_type": "markdown",
      "source": [
        "3-15 (0과 1로 구성된) 타깃 생성하기"
      ],
      "metadata": {
        "id": "5syFd6LdsU-J"
      }
    },
    {
      "cell_type": "code",
      "source": [
        "targets = np.vstack((np.zeros((num_samples_per_class, 1), dtype=\"float32\"),\n",
        "                     np.ones((num_samples_per_class, 1), dtype=\"float32\")))"
      ],
      "metadata": {
        "id": "MXYKV8qMt6JX"
      },
      "execution_count": null,
      "outputs": []
    },
    {
      "cell_type": "code",
      "source": [
        "# 0, 1 순으로 samples 수 만큼 쌓임\n",
        "targets"
      ],
      "metadata": {
        "colab": {
          "base_uri": "https://localhost:8080/"
        },
        "id": "YHz0sDEJB2MR",
        "outputId": "fa86a0d4-cf12-4f57-e868-7cd057022b31"
      },
      "execution_count": null,
      "outputs": [
        {
          "output_type": "execute_result",
          "data": {
            "text/plain": [
              "array([[0.],\n",
              "       [0.],\n",
              "       [0.],\n",
              "       ...,\n",
              "       [1.],\n",
              "       [1.],\n",
              "       [1.]], dtype=float32)"
            ]
          },
          "metadata": {},
          "execution_count": 50
        }
      ]
    },
    {
      "cell_type": "markdown",
      "source": [
        "3-16 두 클래스의 포인트를 그래프로 그리기"
      ],
      "metadata": {
        "id": "C8r4HjGrsZxs"
      }
    },
    {
      "cell_type": "code",
      "source": [
        "import matplotlib.pyplot as plt"
      ],
      "metadata": {
        "id": "kG-gonk7BQKC"
      },
      "execution_count": null,
      "outputs": []
    },
    {
      "cell_type": "code",
      "source": [
        "# plt.scatter(x좌표, y좌표, color=targets의 0번째 열에 따라서)\n",
        "plt.scatter(inputs[:, 0], inputs[:, 1], c=targets[:, 0])"
      ],
      "metadata": {
        "colab": {
          "base_uri": "https://localhost:8080/",
          "height": 448
        },
        "id": "45sw-G3pBSxK",
        "outputId": "38d46a9d-bed2-4d2a-9657-32e9a6cffb46"
      },
      "execution_count": null,
      "outputs": [
        {
          "output_type": "execute_result",
          "data": {
            "text/plain": [
              "<matplotlib.collections.PathCollection at 0x7f2aac032b00>"
            ]
          },
          "metadata": {},
          "execution_count": 52
        },
        {
          "output_type": "display_data",
          "data": {
            "text/plain": [
              "<Figure size 640x480 with 1 Axes>"
            ],
            "image/png": "[encoded data removed]"
          },
          "metadata": {}
        }
      ]
    },
    {
      "cell_type": "markdown",
      "source": [
        "3-17 선형 분류기의 변수만들기"
      ],
      "metadata": {
        "id": "S03Ste_DsdHA"
      }
    },
    {
      "cell_type": "code",
      "source": [
        "input_dim = 2  # 입력은 2D\n",
        "output_dim = 1  # 출력예측은 샘플 당 하나의 정수 (0 or 1 가까운 정수에 예측)\n",
        "# W는 2개(2D 입력)의 스칼라 가중치 : w1, w2로 이루어짐 => W = [w1, w2]\n",
        "W = tf.Variable(initial_value = tf.random.uniform(shape=(input_dim, output_dim)))\n",
        "# b는 스칼라 값\n",
        "b = tf.Variable(initial_value = tf.zeros(shape=(output_dim,)))"
      ],
      "metadata": {
        "id": "WibR-muSD3Yt"
      },
      "execution_count": null,
      "outputs": []
    },
    {
      "cell_type": "markdown",
      "source": [
        "3-18 정방향 패스 함수"
      ],
      "metadata": {
        "id": "teM6uGRAse_X"
      }
    },
    {
      "cell_type": "code",
      "source": [
        "def model(inputs):\n",
        "  return tf.matmul(inputs, W) + b"
      ],
      "metadata": {
        "id": "ILMAbGV0D3vC"
      },
      "execution_count": null,
      "outputs": []
    },
    {
      "cell_type": "markdown",
      "source": [
        "3-19 평균 제곱 오차 손실 함수"
      ],
      "metadata": {
        "id": "vy1DWYtush1D"
      }
    },
    {
      "cell_type": "code",
      "source": [
        "def square_loss(targets, predictions):\n",
        "  per_sample_losses = tf.square(targets - predictions) # 각 샘플의 손실 값\n",
        "  return tf.reduce_mean(per_sample_losses)  # reduce_mean ->샘플 당 손실 값을 하나의 스칼라 손실 값으로 평균"
      ],
      "metadata": {
        "id": "VRZtb92HD4Im"
      },
      "execution_count": null,
      "outputs": []
    },
    {
      "cell_type": "markdown",
      "source": [
        "3-20 훈련 스텝 함수"
      ],
      "metadata": {
        "id": "aB3YpRyhskQL"
      }
    },
    {
      "cell_type": "code",
      "source": [
        "learning_rate = 0.1\n",
        "\n",
        "def training_step(inputs, targets):\n",
        "  # GradientTape() 블록 안의 정방향 패스\n",
        "  with tf.GradientTape() as tape:\n",
        "    predictions = model(inputs)\n",
        "    loss = square_loss(targets, predictions)\n",
        "  grad_loss_wrt_W, grad_loss_wrt_b = tape.gradient(loss, [W, b])  # 가중치에 대한 손실의 그래디언트\n",
        "  # 가중치 업데이트\n",
        "  W.assign_sub(grad_loss_wrt_W * learning_rate)\n",
        "  b.assign_sub(grad_loss_wrt_b * learning_rate)\n",
        "  return loss"
      ],
      "metadata": {
        "id": "l8V8VgpsD4dN"
      },
      "execution_count": null,
      "outputs": []
    },
    {
      "cell_type": "markdown",
      "source": [
        "3-21 배치 훈련 루프"
      ],
      "metadata": {
        "id": "7u4qo16hslvO"
      }
    },
    {
      "cell_type": "code",
      "source": [
        "for step in range(40):\n",
        "  loss = training_step(inputs, targets)\n",
        "  print(f\"{step}번째 스텝의 손실: {loss:.4f}\")"
      ],
      "metadata": {
        "id": "p8uQNOHMc9bc",
        "colab": {
          "base_uri": "https://localhost:8080/"
        },
        "outputId": "472a9863-59f5-49f9-c392-b3485fe871da"
      },
      "execution_count": null,
      "outputs": [
        {
          "output_type": "stream",
          "name": "stdout",
          "text": [
            "0번째 스텝의 손실: 3.4168\n",
            "1번째 스텝의 손실: 0.5557\n",
            "2번째 스텝의 손실: 0.1901\n",
            "3번째 스텝의 손실: 0.1346\n",
            "4번째 스텝의 손실: 0.1197\n",
            "5번째 스텝의 손실: 0.1107\n",
            "6번째 스텝의 손실: 0.1030\n",
            "7번째 스텝의 손실: 0.0961\n",
            "8번째 스텝의 손실: 0.0899\n",
            "9번째 스텝의 손실: 0.0841\n",
            "10번째 스텝의 손실: 0.0789\n",
            "11번째 스텝의 손실: 0.0741\n",
            "12번째 스텝의 손실: 0.0697\n",
            "13번째 스텝의 손실: 0.0658\n",
            "14번째 스텝의 손실: 0.0621\n",
            "15번째 스텝의 손실: 0.0588\n",
            "16번째 스텝의 손실: 0.0558\n",
            "17번째 스텝의 손실: 0.0530\n",
            "18번째 스텝의 손실: 0.0505\n",
            "19번째 스텝의 손실: 0.0482\n",
            "20번째 스텝의 손실: 0.0461\n",
            "21번째 스텝의 손실: 0.0442\n",
            "22번째 스텝의 손실: 0.0424\n",
            "23번째 스텝의 손실: 0.0408\n",
            "24번째 스텝의 손실: 0.0394\n",
            "25번째 스텝의 손실: 0.0381\n",
            "26번째 스텝의 손실: 0.0368\n",
            "27번째 스텝의 손실: 0.0357\n",
            "28번째 스텝의 손실: 0.0347\n",
            "29번째 스텝의 손실: 0.0338\n",
            "30번째 스텝의 손실: 0.0330\n",
            "31번째 스텝의 손실: 0.0322\n",
            "32번째 스텝의 손실: 0.0315\n",
            "33번째 스텝의 손실: 0.0309\n",
            "34번째 스텝의 손실: 0.0303\n",
            "35번째 스텝의 손실: 0.0297\n",
            "36번째 스텝의 손실: 0.0292\n",
            "37번째 스텝의 손실: 0.0288\n",
            "38번째 스텝의 손실: 0.0284\n",
            "39번째 스텝의 손실: 0.0280\n"
          ]
        }
      ]
    },
    {
      "cell_type": "code",
      "source": [
        "predictions = model(inputs)\n",
        "predictions"
      ],
      "metadata": {
        "colab": {
          "base_uri": "https://localhost:8080/"
        },
        "id": "qPrhUyJyHUrE",
        "outputId": "ed9309ac-0ebb-431d-fa1d-a3d81ee3446c"
      },
      "execution_count": null,
      "outputs": [
        {
          "output_type": "execute_result",
          "data": {
            "text/plain": [
              "<tf.Tensor: shape=(2000, 1), dtype=float32, numpy=\n",
              "array([[ 0.3139843 ],\n",
              "       [ 0.2146356 ],\n",
              "       [-0.36662364],\n",
              "       ...,\n",
              "       [ 1.0695319 ],\n",
              "       [ 0.83070445],\n",
              "       [ 0.8951858 ]], dtype=float32)>"
            ]
          },
          "metadata": {},
          "execution_count": 60
        }
      ]
    },
    {
      "cell_type": "code",
      "source": [
        "# 0.5보다 작으면 0, 크면 1로 분류\n",
        "plt.scatter(inputs[:, 0], inputs[:, 1], c= predictions[:, 0] > 0.5)"
      ],
      "metadata": {
        "colab": {
          "base_uri": "https://localhost:8080/",
          "height": 448
        },
        "id": "xRAh8TrkHiuv",
        "outputId": "e550fb23-8aa5-4f0d-b5a1-333211c35035"
      },
      "execution_count": null,
      "outputs": [
        {
          "output_type": "execute_result",
          "data": {
            "text/plain": [
              "<matplotlib.collections.PathCollection at 0x7f2ac0a4ffa0>"
            ]
          },
          "metadata": {},
          "execution_count": 62
        },
        {
          "output_type": "display_data",
          "data": {
            "text/plain": [
              "<Figure size 640x480 with 1 Axes>"
            ],
            "image/png": "[encoded data removed]"
          },
          "metadata": {}
        }
      ]
    },
    {
      "cell_type": "markdown",
      "source": [
        "prediction == [[w1, w2]] ∙ [x, y] + b == w1 * x + w2 * y + b  \n",
        "prediction < 0.5 -> 0 클래스, prediction > 0.5 -> 1 클래스"
      ],
      "metadata": {
        "id": "G7qyUWBBH7e4"
      }
    },
    {
      "cell_type": "code",
      "source": [
        "# 구분하는 직선 -> y = -w1/w2 * x + (0.5-b)/w2\n",
        "x = np.linspace(-1, 4, 100)  # -1~4 일정한 간격 갖도록 100개의 숫자 생성\n",
        "y = -W[0] / W[1] * x + (0.5 - b) / W[1]  # 직선의 방정식\n",
        "plt.plot(x, y, \"-r\") # -r: 빨간색\n",
        "plt.scatter(inputs[:, 0], inputs[:, 1], c= predictions[:, 0] > 0.5)\n",
        "plt.show()"
      ],
      "metadata": {
        "colab": {
          "base_uri": "https://localhost:8080/",
          "height": 430
        },
        "id": "gvf2-WVwHjx0",
        "outputId": "b77e9dfa-856b-41a7-935f-5f37c1498995"
      },
      "execution_count": null,
      "outputs": [
        {
          "output_type": "display_data",
          "data": {
            "text/plain": [
              "<Figure size 640x480 with 1 Axes>"
            ],
            "image/png": "[encoded data removed]"
          },
          "metadata": {}
        }
      ]
    },
    {
      "cell_type": "markdown",
      "source": [
        "3-22 Layer의 서브클래스로 구현한 Dense 층"
      ],
      "metadata": {
        "id": "QO8x11Xm7ass"
      }
    },
    {
      "cell_type": "code",
      "source": [
        "from tensorflow import keras\n",
        "import tensorflow as tf"
      ],
      "metadata": {
        "id": "E6OnAT8pI7_H"
      },
      "execution_count": 4,
      "outputs": []
    },
    {
      "cell_type": "code",
      "source": [
        "class SimpleDense(keras.layers.Layer):\n",
        "  def __init__(self, units, activation=None):  # 모든 케라스 층은 Layer 클래스를 상속\n",
        "    super().__init__()\n",
        "    self.units = units\n",
        "    self.activation = activation\n",
        "\n",
        "  def build(self, input_shape):  # build() 메소드에 가중치를 생성\n",
        "    input_dim = input_shape[-1]\n",
        "    self.W = self.add_weight(shape=(input_dim, self.units),  # add_weight()는 가중치를 간편하게 만들 수 있는 메소드, 독립적으로 변수를 생성하고 층의 속성으로 할당 가능\n",
        "                             initializer = \"random_normal\")\n",
        "    self.b = self.add_weight(shape = (self.units,), initializer='zeros')\n",
        "\n",
        "  def call(self, inputs):  # call 메소드에서 정방향 패스 계산을 정의\n",
        "    y = tf.matmul(inputs, self.W) + self.b\n",
        "    if self.activation is not None:\n",
        "      y = self.activation(y)\n",
        "    return y"
      ],
      "metadata": {
        "id": "pu_J3CEw7lW6"
      },
      "execution_count": 7,
      "outputs": []
    },
    {
      "cell_type": "code",
      "source": [
        "my_dense = SimpleDense(units=32, activation = tf.nn.relu)  # 앞서 정의한 층의 인스턴스를 생성\n",
        "input_tensor = tf.ones(shape=(2, 784))  # 테스트 입력을 생성\n",
        "output_tensor = my_dense(input_tensor)  # 이 입력으로 층을 함수처럼 호출\n",
        "print(output_tensor.shape)"
      ],
      "metadata": {
        "colab": {
          "base_uri": "https://localhost:8080/"
        },
        "id": "uLZmriDo8Ql2",
        "outputId": "71cee5fa-cb23-430d-9113-d20e55136ae1"
      },
      "execution_count": 9,
      "outputs": [
        {
          "output_type": "stream",
          "name": "stdout",
          "text": [
            "(2, 32)\n"
          ]
        }
      ]
    },
    {
      "cell_type": "code",
      "source": [
        "from tensorflow.keras import layers\n",
        "layer = layers.Dense(32, activation=\"relu\")  # 32개의 출력 유닛을 가진 밀집 층"
      ],
      "metadata": {
        "id": "Zii1B2fO-YWA"
      },
      "execution_count": 14,
      "outputs": []
    },
    {
      "cell_type": "code",
      "source": [
        "from tensorflow.keras import models\n",
        "from tensorflow.keras import layers"
      ],
      "metadata": {
        "id": "cs-Zmewv8eSa"
      },
      "execution_count": 10,
      "outputs": []
    },
    {
      "cell_type": "code",
      "source": [
        "model = models.Sequential([\n",
        "    layers.Dense(32, activation=\"relu\"),\n",
        "    layers.Dense(32)\n",
        "])"
      ],
      "metadata": {
        "id": "Atqh9mtk9xQA"
      },
      "execution_count": 12,
      "outputs": []
    },
    {
      "cell_type": "code",
      "source": [
        "# model = NaiveSequential([\n",
        "#     NaiveDense(input_size=784, output_size=32, activation=\"relu\"),\n",
        "#     NaiveDense(input_size=32, output_size=64, activation=\"relu\"),\n",
        "#     NaiveDense(input_size=64, output_size=32, activation=\"relu\"),\n",
        "#     NaiveDense(input_size=32, output_size=10, activation=\"softmax\")\n",
        "# ])"
      ],
      "metadata": {
        "id": "d5Lh_le_93Jy"
      },
      "execution_count": 25,
      "outputs": []
    },
    {
      "cell_type": "code",
      "source": [
        "# SimpleDense 클래스에서는 NaiveDense처럼 생성자에서 가중치를 만들지 X, 그 대신 상태 생성을 위한 전용 메소드인 build()에서 생성\n",
        "# 기본 Layer 클래스의 __call__() 메소드\n",
        "def __call__(self, inputs):\n",
        "  if not self.built:\n",
        "    self.build(inputs.shape)\n",
        "    self.built = True\n",
        "  return self.call(inputs)"
      ],
      "metadata": {
        "id": "rl-Xc7E3-S8F"
      },
      "execution_count": 24,
      "outputs": []
    },
    {
      "cell_type": "code",
      "source": [
        "# 자동으로 크기 추론\n",
        "model = keras.Sequential([\n",
        "    SimpleDense(32, activation=\"relu\"),\n",
        "    SimpleDense(64, activation=\"relu\"),\n",
        "    SimpleDense(32, activation=\"relu\"),\n",
        "    SimpleDense(10, activation=\"softmax\")\n",
        "])"
      ],
      "metadata": {
        "id": "A2CYH47tCB2r"
      },
      "execution_count": 16,
      "outputs": []
    },
    {
      "cell_type": "markdown",
      "source": [
        "compile 단계"
      ],
      "metadata": {
        "id": "24DqmislCWTC"
      }
    },
    {
      "cell_type": "code",
      "source": [
        "model = keras.Sequential([keras.layers.Dense(1)])  # 선형 분류기 정의\n",
        "model.compile(optimizer=\"rmsprop\",  # 옵티마이저 지정\n",
        "              loss = \"mean_squared_error\",  # 손실을 평균 제곱 오차로 지정\n",
        "              metrics=[\"accuracy\"])  # 측정 자료를 리스트로 지정)"
      ],
      "metadata": {
        "id": "Rugce7ZdCUBS"
      },
      "execution_count": 18,
      "outputs": []
    },
    {
      "cell_type": "code",
      "source": [
        "model.compile(optimizer=keras.optimizers.RMSprop(),\n",
        "              loss=keras.losses.MeanSquaredError(),\n",
        "              metrics=[keras.metrics.BinaryAccuracy()])"
      ],
      "metadata": {
        "id": "liJkavyGCtAN"
      },
      "execution_count": 19,
      "outputs": []
    },
    {
      "cell_type": "code",
      "source": [
        "# 사용자 지정 metric, loss도 가능\n",
        "# model.compile(optimizer=keras.optimizer.RMSprop(learning_rate=1e-4),\n",
        "#               loss=my_custom_loss,\n",
        "#               metrics=[my_custom_metric1, my_custom_metric_2])"
      ],
      "metadata": {
        "id": "sS3dJs9qC4km"
      },
      "execution_count": null,
      "outputs": []
    },
    {
      "cell_type": "markdown",
      "source": [
        "3-23 넘파이 데이터로 fit() 메소드 호출"
      ],
      "metadata": {
        "id": "u3ewblM-DMWD"
      }
    },
    {
      "cell_type": "code",
      "source": [
        "history = model.fit(\n",
        "    inputs,   # 입력 샘플(넘파이 배열)\n",
        "    targets,  # 훈련 타깃(넘파이 배열)\n",
        "    epochs=5,  # 훈련 루프 5번\n",
        "    batch_size=128  # 훈련 루프는 128개의 샘플 배치로 데이터를 순회\n",
        ")"
      ],
      "metadata": {
        "id": "Q-bPnHBODLpZ"
      },
      "execution_count": 21,
      "outputs": []
    },
    {
      "cell_type": "markdown",
      "source": [
        "history.history 하면 loss와 측정 지표 딕셔너리 형태로 출력"
      ],
      "metadata": {
        "id": "1QPzcLOeEIGY"
      }
    },
    {
      "cell_type": "markdown",
      "source": [
        "3-24 validation_data 매개변수 사용하기"
      ],
      "metadata": {
        "id": "vD9MWjocEMqt"
      }
    },
    {
      "cell_type": "code",
      "source": [
        "import numpy as np"
      ],
      "metadata": {
        "id": "4KhM1EFlJjVP"
      },
      "execution_count": 28,
      "outputs": []
    },
    {
      "cell_type": "code",
      "source": [
        "model = keras.Sequential([keras.layers.Dense(1)])\n",
        "model.compile(optimizer=keras.optimizers.RMSprop(learning_rate=0.1),\n",
        "              loss=keras.losses.MeanSquaredError(),\n",
        "              metrics=[keras.metrics.BinaryAccuracy()])\n",
        "\n",
        "# 검증 데이터에 한 클래스의 샘플만 포함되는 것을 막기 위해 랜덤하게 생성한 인덱스를 사용해서 입력과 타깃을 섞음\n",
        "indices_permutation = np.random.permutation(len(inputs))\n",
        "shuffled_inputs = inputs[indices_permutation]\n",
        "shuffled_targets = targets[indices_permutation]\n",
        "\n",
        "# 훈련 입력과 타깃의 30%를 검증용을 떼어놓기, 검증 손실과 측정 지표 계산을 위해 훈련 데이터에서 이 샘플을 제외시켜 따로 보관\n",
        "num_validation_samples = int(0.3 * len(inputs))\n",
        "val_inputs = shuffled_inputs[:num_validation_samples]\n",
        "val_targets = shuffled_targets[:num_validation_samples]\n",
        "training_inputs = shuffled_inputs[num_validation_samples:]\n",
        "training_targets = shuffled_targets[num_validation_samples:]\n",
        "\n",
        "model.fits(training_inputs,  # 훈련된 데이터는 모델의 가중치를 업데이트하는데 사용됨\n",
        "           training_targets,\n",
        "           epochs=5,\n",
        "           batch_size=16,\n",
        "           validation_data=(val_inputs, val_targets))  # 검증데이터는 검증 손실과 측정 지표를 모니터링하는데 사용됨"
      ],
      "metadata": {
        "id": "HKrTK37lDeOz"
      },
      "execution_count": 30,
      "outputs": []
    },
    {
      "cell_type": "markdown",
      "source": [
        "추론: 훈련한 모델 사용하기"
      ],
      "metadata": {
        "id": "Gb7QcdCLJDvO"
      }
    },
    {
      "cell_type": "code",
      "source": [
        "# prediction = model(new_inputs)"
      ],
      "metadata": {
        "id": "6JxhLjytJCU1"
      },
      "execution_count": null,
      "outputs": []
    },
    {
      "cell_type": "code",
      "source": [
        "predictions= model.predict(val_inputs, batch_size=128)\n",
        "print(predictions[:10])"
      ],
      "metadata": {
        "id": "a-6DCbLQJJiY"
      },
      "execution_count": null,
      "outputs": []
    }
  ]
}