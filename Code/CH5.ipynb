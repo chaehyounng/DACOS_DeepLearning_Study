{
  "nbformat": 4,
  "nbformat_minor": 0,
  "metadata": {
    "colab": {
      "provenance": []
    },
    "kernelspec": {
      "name": "python3",
      "display_name": "Python 3"
    },
    "language_info": {
      "name": "python"
    }
  },
  "cells": [
    {
      "cell_type": "markdown",
      "source": [
        "# CH5"
      ],
      "metadata": {
        "id": "M2129lx3C5p4"
      }
    },
    {
      "cell_type": "markdown",
      "source": [
        "## 5.1 일반화: 머신러닝의 목표"
      ],
      "metadata": {
        "id": "xSQOPtrPC7Md"
      }
    },
    {
      "cell_type": "markdown",
      "source": [
        "5-1 MNIST에 백색잡음 픽셀과 0픽셀 추가"
      ],
      "metadata": {
        "id": "VmGZEuVcGdcw"
      }
    },
    {
      "cell_type": "code",
      "execution_count": 1,
      "metadata": {
        "id": "eyLb72vHC3T0"
      },
      "outputs": [],
      "source": [
        "from tensorflow.keras.datasets import mnist\n",
        "import numpy as np"
      ]
    },
    {
      "cell_type": "code",
      "source": [
        "(train_images, train_labels), _ = mnist.load_data()\n",
        "train_images = train_images.reshape((60000, 28*28))\n",
        "train_images = train_images.astype(\"float32\")/55\n",
        "train_images_with_noise_channels = np.concatenate(\n",
        "    [train_images, np.random.random((len(train_images), 784))], axis=1)\n",
        "train_images_with_zeros_channels = np.concatenate(\n",
        "    [train_images, np.zeros((len(train_images), 784))], axis=1)"
      ],
      "metadata": {
        "id": "odb6nvC2GlwZ",
        "colab": {
          "base_uri": "https://localhost:8080/"
        },
        "outputId": "a7844ebf-435b-4bc1-ac12-def6201396db"
      },
      "execution_count": 2,
      "outputs": [
        {
          "output_type": "stream",
          "name": "stdout",
          "text": [
            "Downloading data from https://storage.googleapis.com/tensorflow/tf-keras-datasets/mnist.npz\n",
            "11490434/11490434 [==============================] - 1s 0us/step\n"
          ]
        }
      ]
    },
    {
      "cell_type": "markdown",
      "source": [
        "5-2 백색 잡음과 0을 추가한 MNIST 데이터에서 모델 훈련하기"
      ],
      "metadata": {
        "id": "p8lP4QtaHW3r"
      }
    },
    {
      "cell_type": "code",
      "source": [
        "from tensorflow import keras\n",
        "from tensorflow.keras import layers"
      ],
      "metadata": {
        "id": "UtFXWST2HPUk"
      },
      "execution_count": 3,
      "outputs": []
    },
    {
      "cell_type": "code",
      "source": [
        "def get_model():\n",
        "  model = keras.Sequential([\n",
        "      layers.Dense(512, activation=\"relu\"),\n",
        "      layers.Dense(10, activation=\"softmax\")\n",
        "  ])\n",
        "  model.compile(optimizer=\"rmsprop\",\n",
        "                loss=\"sparse_categorical_crossentropy\",\n",
        "                metrics=[\"accuracy\"])\n",
        "  return model"
      ],
      "metadata": {
        "id": "A-MVTCOFHfWf"
      },
      "execution_count": null,
      "outputs": []
    },
    {
      "cell_type": "code",
      "source": [
        "model = get_model()\n",
        "history_noise = model.fit(\n",
        "    train_images_with_noise_channels, train_labels,\n",
        "    epochs=10,\n",
        "    batch_size=128,\n",
        "    validation_split=0.2\n",
        ")"
      ],
      "metadata": {
        "colab": {
          "base_uri": "https://localhost:8080/"
        },
        "id": "uXtN79YjH2CN",
        "outputId": "7dc2ff11-2678-4643-c1fa-a453251ec451"
      },
      "execution_count": null,
      "outputs": [
        {
          "output_type": "stream",
          "name": "stdout",
          "text": [
            "Epoch 1/10\n",
            "375/375 [==============================] - 12s 28ms/step - loss: 0.4015 - accuracy: 0.8930 - val_loss: 0.1545 - val_accuracy: 0.9530\n",
            "Epoch 2/10\n",
            "375/375 [==============================] - 11s 29ms/step - loss: 0.1165 - accuracy: 0.9647 - val_loss: 0.1059 - val_accuracy: 0.9688\n",
            "Epoch 3/10\n",
            "375/375 [==============================] - 10s 26ms/step - loss: 0.0716 - accuracy: 0.9775 - val_loss: 0.0949 - val_accuracy: 0.9709\n",
            "Epoch 4/10\n",
            "375/375 [==============================] - 11s 29ms/step - loss: 0.0479 - accuracy: 0.9845 - val_loss: 0.0897 - val_accuracy: 0.9770\n",
            "Epoch 5/10\n",
            "375/375 [==============================] - 10s 25ms/step - loss: 0.0337 - accuracy: 0.9892 - val_loss: 0.1101 - val_accuracy: 0.9728\n",
            "Epoch 6/10\n",
            "375/375 [==============================] - 9s 23ms/step - loss: 0.0241 - accuracy: 0.9925 - val_loss: 0.1300 - val_accuracy: 0.9697\n",
            "Epoch 7/10\n",
            "375/375 [==============================] - 11s 30ms/step - loss: 0.0171 - accuracy: 0.9944 - val_loss: 0.1173 - val_accuracy: 0.9741\n",
            "Epoch 8/10\n",
            "375/375 [==============================] - 8s 22ms/step - loss: 0.0139 - accuracy: 0.9958 - val_loss: 0.1123 - val_accuracy: 0.9774\n",
            "Epoch 9/10\n",
            "375/375 [==============================] - 9s 25ms/step - loss: 0.0105 - accuracy: 0.9966 - val_loss: 0.1410 - val_accuracy: 0.9753\n",
            "Epoch 10/10\n",
            "375/375 [==============================] - 8s 22ms/step - loss: 0.0084 - accuracy: 0.9977 - val_loss: 0.1184 - val_accuracy: 0.9785\n"
          ]
        }
      ]
    },
    {
      "cell_type": "code",
      "source": [
        "model = get_model()\n",
        "history_zeros = model.fit(\n",
        "    train_images_with_zeros_channels, train_labels,\n",
        "    epochs=10,\n",
        "    batch_size=128,\n",
        "    validation_split=0.2\n",
        ")"
      ],
      "metadata": {
        "colab": {
          "base_uri": "https://localhost:8080/"
        },
        "id": "RRCVSJ0MIEv3",
        "outputId": "596d391e-4aca-49a4-ec44-3d8c81d055cb"
      },
      "execution_count": null,
      "outputs": [
        {
          "output_type": "stream",
          "name": "stdout",
          "text": [
            "Epoch 1/10\n",
            "375/375 [==============================] - 7s 18ms/step - loss: 0.2708 - accuracy: 0.9195 - val_loss: 0.1205 - val_accuracy: 0.9661\n",
            "Epoch 2/10\n",
            "375/375 [==============================] - 12s 31ms/step - loss: 0.0926 - accuracy: 0.9721 - val_loss: 0.1025 - val_accuracy: 0.9693\n",
            "Epoch 3/10\n",
            "375/375 [==============================] - 10s 27ms/step - loss: 0.0583 - accuracy: 0.9820 - val_loss: 0.0982 - val_accuracy: 0.9714\n",
            "Epoch 4/10\n",
            "375/375 [==============================] - 10s 28ms/step - loss: 0.0392 - accuracy: 0.9869 - val_loss: 0.0884 - val_accuracy: 0.9766\n",
            "Epoch 5/10\n",
            "375/375 [==============================] - 10s 26ms/step - loss: 0.0289 - accuracy: 0.9904 - val_loss: 0.0993 - val_accuracy: 0.9743\n",
            "Epoch 6/10\n",
            "375/375 [==============================] - 10s 27ms/step - loss: 0.0220 - accuracy: 0.9931 - val_loss: 0.0919 - val_accuracy: 0.9788\n",
            "Epoch 7/10\n",
            "375/375 [==============================] - 8s 22ms/step - loss: 0.0150 - accuracy: 0.9952 - val_loss: 0.0959 - val_accuracy: 0.9783\n",
            "Epoch 8/10\n",
            "375/375 [==============================] - 10s 26ms/step - loss: 0.0115 - accuracy: 0.9959 - val_loss: 0.1005 - val_accuracy: 0.9787\n",
            "Epoch 9/10\n",
            "375/375 [==============================] - 8s 22ms/step - loss: 0.0095 - accuracy: 0.9967 - val_loss: 0.0944 - val_accuracy: 0.9798\n",
            "Epoch 10/10\n",
            "375/375 [==============================] - 10s 28ms/step - loss: 0.0069 - accuracy: 0.9976 - val_loss: 0.1165 - val_accuracy: 0.9770\n"
          ]
        }
      ]
    },
    {
      "cell_type": "markdown",
      "source": [
        "5-3 검증 정확도 비교 그래프 그리기"
      ],
      "metadata": {
        "id": "LMBKoEgEISAp"
      }
    },
    {
      "cell_type": "code",
      "source": [
        "import matplotlib.pyplot as plt"
      ],
      "metadata": {
        "id": "hCnNT4aGIQ59"
      },
      "execution_count": 4,
      "outputs": []
    },
    {
      "cell_type": "code",
      "source": [
        "val_acc_noise = history_noise.history[\"val_accuracy\"]\n",
        "val_acc_zeros = history_zeros.history[\"val_accuracy\"]\n",
        "epochs = range(1, 11)\n",
        "plt.plot(epochs, val_acc_noise, \"b-\", label=\"Validation accuracy with noise channels\")\n",
        "plt.plot(epochs, val_acc_zeros, \"b--\", label=\"Validaton accuracy with zeros channels\")\n",
        "plt.title(\"Effect of noise channels on validation accuracy\")\n",
        "plt.xlabel(\"Epochs\")\n",
        "plt.ylabel(\"Accuracy\")\n",
        "plt.legend()\n",
        "plt.show()"
      ],
      "metadata": {
        "colab": {
          "base_uri": "https://localhost:8080/",
          "height": 472
        },
        "id": "QkWYsQ4cIWjK",
        "outputId": "c6733f54-ce1d-4faa-f63a-d5478d6ec5de"
      },
      "execution_count": null,
      "outputs": [
        {
          "output_type": "display_data",
          "data": {
            "text/plain": [
              "<Figure size 640x480 with 1 Axes>"
            ],
            "image/png": "[encoded data removed]"
          },
          "metadata": {}
        }
      ]
    },
    {
      "cell_type": "markdown",
      "source": [
        "5-4 랜덤하게 섞은 레이블로 MNIST 모델 훈련하기"
      ],
      "metadata": {
        "id": "0ho4da8TI2j9"
      }
    },
    {
      "cell_type": "code",
      "source": [
        "(train_images, train_labels), _= mnist.load_data()\n",
        "train_images = train_images.reshape((60000, 28*28))\n",
        "train_images = train_images.astype(\"float32\") / 225\n",
        "\n",
        "random_train_labels = train_labels[:]\n",
        "np.random.shuffle(random_train_labels)\n",
        "\n",
        "model = keras.Sequential([\n",
        "    layers.Dense(512, activation=\"relu\"),\n",
        "    layers.Dense(10, activation=\"softmax\")\n",
        "])\n",
        "\n",
        "model.compile(optimizer=\"rmsprop\",\n",
        "              loss=\"sparse_categorical_crossentropy\",\n",
        "              metrics=[\"accuracy\"])\n",
        "\n",
        "model.fit(train_images, random_train_labels,\n",
        "          epochs=100, batch_size=128, validation_split=0.2)"
      ],
      "metadata": {
        "colab": {
          "base_uri": "https://localhost:8080/"
        },
        "id": "zD3sjxDGJBuE",
        "outputId": "b3082456-7faf-49ec-872c-dd492a3f3659"
      },
      "execution_count": null,
      "outputs": [
        {
          "output_type": "stream",
          "name": "stdout",
          "text": [
            "Epoch 1/100\n",
            "375/375 [==============================] - 5s 11ms/step - loss: 2.3189 - accuracy: 0.1010 - val_loss: 2.3037 - val_accuracy: 0.1085\n",
            "Epoch 2/100\n",
            "375/375 [==============================] - 3s 9ms/step - loss: 2.3002 - accuracy: 0.1175 - val_loss: 2.3097 - val_accuracy: 0.1041\n",
            "Epoch 3/100\n",
            "375/375 [==============================] - 4s 10ms/step - loss: 2.2922 - accuracy: 0.1256 - val_loss: 2.3185 - val_accuracy: 0.1046\n",
            "Epoch 4/100\n",
            "375/375 [==============================] - 7s 18ms/step - loss: 2.2797 - accuracy: 0.1373 - val_loss: 2.3236 - val_accuracy: 0.1023\n",
            "Epoch 5/100\n",
            "375/375 [==============================] - 4s 12ms/step - loss: 2.2628 - accuracy: 0.1528 - val_loss: 2.3387 - val_accuracy: 0.0993\n",
            "Epoch 6/100\n",
            "375/375 [==============================] - 4s 11ms/step - loss: 2.2421 - accuracy: 0.1663 - val_loss: 2.3542 - val_accuracy: 0.1020\n",
            "Epoch 7/100\n",
            "375/375 [==============================] - 6s 15ms/step - loss: 2.2165 - accuracy: 0.1784 - val_loss: 2.3685 - val_accuracy: 0.0989\n",
            "Epoch 8/100\n",
            "375/375 [==============================] - 5s 13ms/step - loss: 2.1876 - accuracy: 0.1979 - val_loss: 2.4027 - val_accuracy: 0.0943\n",
            "Epoch 9/100\n",
            "375/375 [==============================] - 6s 15ms/step - loss: 2.1569 - accuracy: 0.2125 - val_loss: 2.4120 - val_accuracy: 0.0964\n",
            "Epoch 10/100\n",
            "375/375 [==============================] - 5s 14ms/step - loss: 2.1231 - accuracy: 0.2333 - val_loss: 2.4354 - val_accuracy: 0.0988\n",
            "Epoch 11/100\n",
            "375/375 [==============================] - 5s 13ms/step - loss: 2.0881 - accuracy: 0.2475 - val_loss: 2.4649 - val_accuracy: 0.0949\n",
            "Epoch 12/100\n",
            "375/375 [==============================] - 6s 15ms/step - loss: 2.0482 - accuracy: 0.2668 - val_loss: 2.4951 - val_accuracy: 0.0940\n",
            "Epoch 13/100\n",
            "375/375 [==============================] - 5s 12ms/step - loss: 2.0100 - accuracy: 0.2826 - val_loss: 2.5127 - val_accuracy: 0.0978\n",
            "Epoch 14/100\n",
            "375/375 [==============================] - 7s 18ms/step - loss: 1.9695 - accuracy: 0.3027 - val_loss: 2.5577 - val_accuracy: 0.0992\n",
            "Epoch 15/100\n",
            "375/375 [==============================] - 5s 14ms/step - loss: 1.9302 - accuracy: 0.3191 - val_loss: 2.5910 - val_accuracy: 0.0977\n",
            "Epoch 16/100\n",
            "375/375 [==============================] - 8s 20ms/step - loss: 1.8875 - accuracy: 0.3384 - val_loss: 2.6398 - val_accuracy: 0.0997\n",
            "Epoch 17/100\n",
            "375/375 [==============================] - 6s 15ms/step - loss: 1.8473 - accuracy: 0.3519 - val_loss: 2.6632 - val_accuracy: 0.0957\n",
            "Epoch 18/100\n",
            "375/375 [==============================] - 4s 10ms/step - loss: 1.8080 - accuracy: 0.3688 - val_loss: 2.7036 - val_accuracy: 0.0972\n",
            "Epoch 19/100\n",
            "375/375 [==============================] - 5s 12ms/step - loss: 1.7676 - accuracy: 0.3836 - val_loss: 2.7381 - val_accuracy: 0.0974\n",
            "Epoch 20/100\n",
            "375/375 [==============================] - 3s 9ms/step - loss: 1.7281 - accuracy: 0.3990 - val_loss: 2.7921 - val_accuracy: 0.0988\n",
            "Epoch 21/100\n",
            "375/375 [==============================] - 4s 10ms/step - loss: 1.6897 - accuracy: 0.4161 - val_loss: 2.8331 - val_accuracy: 0.0978\n",
            "Epoch 22/100\n",
            "375/375 [==============================] - 5s 13ms/step - loss: 1.6514 - accuracy: 0.4294 - val_loss: 2.8872 - val_accuracy: 0.0962\n",
            "Epoch 23/100\n",
            "375/375 [==============================] - 4s 9ms/step - loss: 1.6166 - accuracy: 0.4421 - val_loss: 2.9267 - val_accuracy: 0.0967\n",
            "Epoch 24/100\n",
            "375/375 [==============================] - 4s 9ms/step - loss: 1.5790 - accuracy: 0.4574 - val_loss: 2.9801 - val_accuracy: 0.1016\n",
            "Epoch 25/100\n",
            "375/375 [==============================] - 5s 14ms/step - loss: 1.5435 - accuracy: 0.4707 - val_loss: 3.0223 - val_accuracy: 0.0955\n",
            "Epoch 26/100\n",
            "375/375 [==============================] - 4s 10ms/step - loss: 1.5102 - accuracy: 0.4839 - val_loss: 3.0744 - val_accuracy: 0.0955\n",
            "Epoch 27/100\n",
            "375/375 [==============================] - 8s 21ms/step - loss: 1.4776 - accuracy: 0.4929 - val_loss: 3.1170 - val_accuracy: 0.0972\n",
            "Epoch 28/100\n",
            "375/375 [==============================] - 6s 17ms/step - loss: 1.4443 - accuracy: 0.5072 - val_loss: 3.1789 - val_accuracy: 0.0979\n",
            "Epoch 29/100\n",
            "375/375 [==============================] - 7s 18ms/step - loss: 1.4114 - accuracy: 0.5188 - val_loss: 3.2398 - val_accuracy: 0.0946\n",
            "Epoch 30/100\n",
            "375/375 [==============================] - 5s 14ms/step - loss: 1.3783 - accuracy: 0.5323 - val_loss: 3.2883 - val_accuracy: 0.0990\n",
            "Epoch 31/100\n",
            "375/375 [==============================] - 7s 19ms/step - loss: 1.3484 - accuracy: 0.5410 - val_loss: 3.3657 - val_accuracy: 0.1002\n",
            "Epoch 32/100\n",
            "375/375 [==============================] - 5s 13ms/step - loss: 1.3177 - accuracy: 0.5516 - val_loss: 3.4035 - val_accuracy: 0.0953\n",
            "Epoch 33/100\n",
            "375/375 [==============================] - 4s 10ms/step - loss: 1.2905 - accuracy: 0.5633 - val_loss: 3.4783 - val_accuracy: 0.0991\n",
            "Epoch 34/100\n",
            "375/375 [==============================] - 5s 14ms/step - loss: 1.2639 - accuracy: 0.5743 - val_loss: 3.5112 - val_accuracy: 0.0999\n",
            "Epoch 35/100\n",
            "375/375 [==============================] - 5s 14ms/step - loss: 1.2353 - accuracy: 0.5834 - val_loss: 3.5754 - val_accuracy: 0.0980\n",
            "Epoch 36/100\n",
            "375/375 [==============================] - 5s 12ms/step - loss: 1.2100 - accuracy: 0.5938 - val_loss: 3.6680 - val_accuracy: 0.1013\n",
            "Epoch 37/100\n",
            "375/375 [==============================] - 6s 16ms/step - loss: 1.1819 - accuracy: 0.6018 - val_loss: 3.7000 - val_accuracy: 0.0991\n",
            "Epoch 38/100\n",
            "375/375 [==============================] - 5s 12ms/step - loss: 1.1560 - accuracy: 0.6125 - val_loss: 3.7987 - val_accuracy: 0.0953\n",
            "Epoch 39/100\n",
            "375/375 [==============================] - 5s 14ms/step - loss: 1.1323 - accuracy: 0.6193 - val_loss: 3.8244 - val_accuracy: 0.0984\n",
            "Epoch 40/100\n",
            "375/375 [==============================] - 5s 13ms/step - loss: 1.1071 - accuracy: 0.6300 - val_loss: 3.8924 - val_accuracy: 0.1015\n",
            "Epoch 41/100\n",
            "375/375 [==============================] - 5s 13ms/step - loss: 1.0838 - accuracy: 0.6397 - val_loss: 3.9600 - val_accuracy: 0.0972\n",
            "Epoch 42/100\n",
            "375/375 [==============================] - 5s 14ms/step - loss: 1.0611 - accuracy: 0.6471 - val_loss: 4.0250 - val_accuracy: 0.1003\n",
            "Epoch 43/100\n",
            "375/375 [==============================] - 4s 11ms/step - loss: 1.0383 - accuracy: 0.6534 - val_loss: 4.0938 - val_accuracy: 0.0993\n",
            "Epoch 44/100\n",
            "375/375 [==============================] - 4s 9ms/step - loss: 1.0171 - accuracy: 0.6631 - val_loss: 4.1507 - val_accuracy: 0.1002\n",
            "Epoch 45/100\n",
            "375/375 [==============================] - 5s 12ms/step - loss: 0.9971 - accuracy: 0.6670 - val_loss: 4.2124 - val_accuracy: 0.0995\n",
            "Epoch 46/100\n",
            "375/375 [==============================] - 5s 12ms/step - loss: 0.9733 - accuracy: 0.6762 - val_loss: 4.2716 - val_accuracy: 0.0983\n",
            "Epoch 47/100\n",
            "375/375 [==============================] - 6s 16ms/step - loss: 0.9538 - accuracy: 0.6856 - val_loss: 4.3273 - val_accuracy: 0.0993\n",
            "Epoch 48/100\n",
            "375/375 [==============================] - 5s 12ms/step - loss: 0.9343 - accuracy: 0.6903 - val_loss: 4.4480 - val_accuracy: 0.0992\n",
            "Epoch 49/100\n",
            "375/375 [==============================] - 4s 11ms/step - loss: 0.9167 - accuracy: 0.6989 - val_loss: 4.5053 - val_accuracy: 0.0997\n",
            "Epoch 50/100\n",
            "375/375 [==============================] - 6s 15ms/step - loss: 0.8967 - accuracy: 0.7042 - val_loss: 4.5574 - val_accuracy: 0.0993\n",
            "Epoch 51/100\n",
            "375/375 [==============================] - 5s 13ms/step - loss: 0.8794 - accuracy: 0.7114 - val_loss: 4.6386 - val_accuracy: 0.0981\n",
            "Epoch 52/100\n",
            "375/375 [==============================] - 5s 13ms/step - loss: 0.8601 - accuracy: 0.7188 - val_loss: 4.6736 - val_accuracy: 0.1002\n",
            "Epoch 53/100\n",
            "375/375 [==============================] - 5s 14ms/step - loss: 0.8444 - accuracy: 0.7232 - val_loss: 4.7629 - val_accuracy: 0.0997\n",
            "Epoch 54/100\n",
            "375/375 [==============================] - 5s 13ms/step - loss: 0.8263 - accuracy: 0.7287 - val_loss: 4.8272 - val_accuracy: 0.0984\n",
            "Epoch 55/100\n",
            "375/375 [==============================] - 4s 10ms/step - loss: 0.8087 - accuracy: 0.7366 - val_loss: 4.9132 - val_accuracy: 0.0992\n",
            "Epoch 56/100\n",
            "375/375 [==============================] - 5s 13ms/step - loss: 0.7940 - accuracy: 0.7418 - val_loss: 4.9889 - val_accuracy: 0.1027\n",
            "Epoch 57/100\n",
            "375/375 [==============================] - 5s 14ms/step - loss: 0.7783 - accuracy: 0.7449 - val_loss: 5.0001 - val_accuracy: 0.0987\n",
            "Epoch 58/100\n",
            "375/375 [==============================] - 6s 16ms/step - loss: 0.7594 - accuracy: 0.7495 - val_loss: 5.1579 - val_accuracy: 0.0990\n",
            "Epoch 59/100\n",
            "375/375 [==============================] - 4s 11ms/step - loss: 0.7459 - accuracy: 0.7576 - val_loss: 5.2448 - val_accuracy: 0.1010\n",
            "Epoch 60/100\n",
            "375/375 [==============================] - 4s 12ms/step - loss: 0.7321 - accuracy: 0.7631 - val_loss: 5.2236 - val_accuracy: 0.0990\n",
            "Epoch 61/100\n",
            "375/375 [==============================] - 7s 17ms/step - loss: 0.7169 - accuracy: 0.7663 - val_loss: 5.3377 - val_accuracy: 0.1007\n",
            "Epoch 62/100\n",
            "375/375 [==============================] - 4s 11ms/step - loss: 0.7019 - accuracy: 0.7699 - val_loss: 5.4196 - val_accuracy: 0.1018\n",
            "Epoch 63/100\n",
            "375/375 [==============================] - 5s 13ms/step - loss: 0.6885 - accuracy: 0.7758 - val_loss: 5.4933 - val_accuracy: 0.0978\n",
            "Epoch 64/100\n",
            "375/375 [==============================] - 7s 17ms/step - loss: 0.6750 - accuracy: 0.7811 - val_loss: 5.5748 - val_accuracy: 0.0998\n",
            "Epoch 65/100\n",
            "375/375 [==============================] - 4s 11ms/step - loss: 0.6629 - accuracy: 0.7862 - val_loss: 5.6663 - val_accuracy: 0.0972\n",
            "Epoch 66/100\n",
            "375/375 [==============================] - 6s 17ms/step - loss: 0.6491 - accuracy: 0.7894 - val_loss: 5.7045 - val_accuracy: 0.1015\n",
            "Epoch 67/100\n",
            "375/375 [==============================] - 5s 12ms/step - loss: 0.6340 - accuracy: 0.7949 - val_loss: 5.7755 - val_accuracy: 0.1021\n",
            "Epoch 68/100\n",
            "375/375 [==============================] - 5s 14ms/step - loss: 0.6270 - accuracy: 0.7993 - val_loss: 5.8856 - val_accuracy: 0.0979\n",
            "Epoch 69/100\n",
            "375/375 [==============================] - 6s 16ms/step - loss: 0.6129 - accuracy: 0.8026 - val_loss: 5.9448 - val_accuracy: 0.1018\n",
            "Epoch 70/100\n",
            "375/375 [==============================] - 5s 14ms/step - loss: 0.5989 - accuracy: 0.8060 - val_loss: 6.0192 - val_accuracy: 0.0986\n",
            "Epoch 71/100\n",
            "375/375 [==============================] - 6s 15ms/step - loss: 0.5889 - accuracy: 0.8091 - val_loss: 6.0872 - val_accuracy: 0.1000\n",
            "Epoch 72/100\n",
            "375/375 [==============================] - 4s 11ms/step - loss: 0.5776 - accuracy: 0.8140 - val_loss: 6.2020 - val_accuracy: 0.1002\n",
            "Epoch 73/100\n",
            "375/375 [==============================] - 4s 11ms/step - loss: 0.5664 - accuracy: 0.8184 - val_loss: 6.3016 - val_accuracy: 0.0982\n",
            "Epoch 74/100\n",
            "375/375 [==============================] - 5s 15ms/step - loss: 0.5557 - accuracy: 0.8213 - val_loss: 6.3935 - val_accuracy: 0.1001\n",
            "Epoch 75/100\n",
            "375/375 [==============================] - 4s 10ms/step - loss: 0.5455 - accuracy: 0.8244 - val_loss: 6.4500 - val_accuracy: 0.0988\n",
            "Epoch 76/100\n",
            "375/375 [==============================] - 4s 10ms/step - loss: 0.5348 - accuracy: 0.8293 - val_loss: 6.5025 - val_accuracy: 0.1000\n",
            "Epoch 77/100\n",
            "375/375 [==============================] - 5s 13ms/step - loss: 0.5246 - accuracy: 0.8336 - val_loss: 6.5853 - val_accuracy: 0.0990\n",
            "Epoch 78/100\n",
            "375/375 [==============================] - 4s 10ms/step - loss: 0.5143 - accuracy: 0.8351 - val_loss: 6.6663 - val_accuracy: 0.1007\n",
            "Epoch 79/100\n",
            "375/375 [==============================] - 4s 10ms/step - loss: 0.5051 - accuracy: 0.8398 - val_loss: 6.7360 - val_accuracy: 0.0987\n",
            "Epoch 80/100\n",
            "375/375 [==============================] - 5s 13ms/step - loss: 0.4983 - accuracy: 0.8419 - val_loss: 6.8167 - val_accuracy: 0.0987\n",
            "Epoch 81/100\n",
            "375/375 [==============================] - 4s 9ms/step - loss: 0.4860 - accuracy: 0.8459 - val_loss: 6.9195 - val_accuracy: 0.1010\n",
            "Epoch 82/100\n",
            "375/375 [==============================] - 3s 9ms/step - loss: 0.4757 - accuracy: 0.8472 - val_loss: 6.9691 - val_accuracy: 0.1019\n",
            "Epoch 83/100\n",
            "375/375 [==============================] - 5s 12ms/step - loss: 0.4711 - accuracy: 0.8496 - val_loss: 7.0171 - val_accuracy: 0.0984\n",
            "Epoch 84/100\n",
            "375/375 [==============================] - 4s 9ms/step - loss: 0.4606 - accuracy: 0.8531 - val_loss: 7.1565 - val_accuracy: 0.1005\n",
            "Epoch 85/100\n",
            "375/375 [==============================] - 4s 10ms/step - loss: 0.4540 - accuracy: 0.8541 - val_loss: 7.2466 - val_accuracy: 0.1012\n",
            "Epoch 86/100\n",
            "375/375 [==============================] - 4s 11ms/step - loss: 0.4444 - accuracy: 0.8596 - val_loss: 7.3195 - val_accuracy: 0.0997\n",
            "Epoch 87/100\n",
            "375/375 [==============================] - 4s 10ms/step - loss: 0.4361 - accuracy: 0.8613 - val_loss: 7.3306 - val_accuracy: 0.0997\n",
            "Epoch 88/100\n",
            "375/375 [==============================] - 4s 9ms/step - loss: 0.4291 - accuracy: 0.8636 - val_loss: 7.4853 - val_accuracy: 0.0985\n",
            "Epoch 89/100\n",
            "375/375 [==============================] - 4s 9ms/step - loss: 0.4203 - accuracy: 0.8676 - val_loss: 7.5197 - val_accuracy: 0.0996\n",
            "Epoch 90/100\n",
            "375/375 [==============================] - 5s 13ms/step - loss: 0.4128 - accuracy: 0.8683 - val_loss: 7.6288 - val_accuracy: 0.0982\n",
            "Epoch 91/100\n",
            "375/375 [==============================] - 4s 9ms/step - loss: 0.4055 - accuracy: 0.8722 - val_loss: 7.6669 - val_accuracy: 0.0977\n",
            "Epoch 92/100\n",
            "375/375 [==============================] - 5s 12ms/step - loss: 0.3987 - accuracy: 0.8741 - val_loss: 7.8399 - val_accuracy: 0.0970\n",
            "Epoch 93/100\n",
            "375/375 [==============================] - 5s 13ms/step - loss: 0.3936 - accuracy: 0.8754 - val_loss: 7.8844 - val_accuracy: 0.0972\n",
            "Epoch 94/100\n",
            "375/375 [==============================] - 4s 9ms/step - loss: 0.3857 - accuracy: 0.8784 - val_loss: 7.9950 - val_accuracy: 0.0968\n",
            "Epoch 95/100\n",
            "375/375 [==============================] - 4s 9ms/step - loss: 0.3789 - accuracy: 0.8801 - val_loss: 8.0580 - val_accuracy: 0.1015\n",
            "Epoch 96/100\n",
            "375/375 [==============================] - 5s 12ms/step - loss: 0.3733 - accuracy: 0.8821 - val_loss: 8.1195 - val_accuracy: 0.0972\n",
            "Epoch 97/100\n",
            "375/375 [==============================] - 4s 10ms/step - loss: 0.3651 - accuracy: 0.8833 - val_loss: 8.2177 - val_accuracy: 0.0988\n",
            "Epoch 98/100\n",
            "375/375 [==============================] - 4s 9ms/step - loss: 0.3584 - accuracy: 0.8882 - val_loss: 8.2419 - val_accuracy: 0.1024\n",
            "Epoch 99/100\n",
            "375/375 [==============================] - 5s 12ms/step - loss: 0.3530 - accuracy: 0.8871 - val_loss: 8.3476 - val_accuracy: 0.0983\n",
            "Epoch 100/100\n",
            "375/375 [==============================] - 4s 9ms/step - loss: 0.3463 - accuracy: 0.8915 - val_loss: 8.3518 - val_accuracy: 0.0990\n"
          ]
        },
        {
          "output_type": "execute_result",
          "data": {
            "text/plain": [
              "<keras.src.callbacks.History at 0x791232f106d0>"
            ]
          },
          "metadata": {},
          "execution_count": 12
        }
      ]
    },
    {
      "cell_type": "markdown",
      "source": [
        "## 5.2 머신러닝 모델 평가"
      ],
      "metadata": {
        "id": "bFVhnVmhJ9wQ"
      }
    },
    {
      "cell_type": "markdown",
      "source": [
        "5-5 홀드아웃 검증 구현 예"
      ],
      "metadata": {
        "id": "4URx3Gc-KByG"
      }
    },
    {
      "cell_type": "code",
      "source": [
        "# num_validation_samples = 10000\n",
        "# np.random.shuffle(data)\n",
        "# validation_data = data[:num_validation_samples]\n",
        "# training_data = data[num_validation_samples:]\n",
        "# # 모델을 튜닝, 훈련, 평가하는 과정 반복\n",
        "# model = get_model()\n",
        "# model.fit(training_data)\n",
        "# model.fit(np.concatenate([training_data, validation_data]), ...)\n",
        "# test_score = model.evaluate(test_data, ...)"
      ],
      "metadata": {
        "id": "Wr-knnWXJ6nm"
      },
      "execution_count": null,
      "outputs": []
    },
    {
      "cell_type": "markdown",
      "source": [
        "5-6 k-겹 교차 검증 구현 예\n",
        "*cf) 사이킷런의 cross_validate를 이용하여 쉽게 구현 가능*"
      ],
      "metadata": {
        "id": "gP1k_nPsKkoM"
      }
    },
    {
      "cell_type": "code",
      "source": [
        "# from numpy.random.mtrand import f\n",
        "# k=3\n",
        "# num_validation_samples = len(data)//k\n",
        "# np.random.shuffle(data)\n",
        "# validation_scores = []\n",
        "\n",
        "# for fold in range(k):\n",
        "#   validation_data = data[num_validation_samples * fold : num_validation_samples * (fold+1)]\n",
        "#   training_data = np.concantentate(\n",
        "#       data[:num_validation_samples * fold], data[num_validation_samples * (fold+1):]\n",
        "#   )\n",
        "#   model = get_model()\n",
        "#   model.fit(training_data, ...)\n",
        "#   validation_score = model.evaluate(validation_data, ...)\n",
        "#   validation_scores.append(validation_score)\n",
        "\n",
        "# validation_scaore = np.average(validation_scores)\n",
        "# model = get_model()\n",
        "# model.fit(data, ...)\n",
        "# test_score = model.evaluate(test_data, ...)"
      ],
      "metadata": {
        "id": "x_xGoZgJKoTZ"
      },
      "execution_count": null,
      "outputs": []
    },
    {
      "cell_type": "markdown",
      "source": [
        "## 5.3 훈련 성능 향상하기"
      ],
      "metadata": {
        "id": "_NRjWQAEKybK"
      }
    },
    {
      "cell_type": "markdown",
      "source": [
        "5-7 잘못된 높은 학습률로 MNIST 모델 훈련하기"
      ],
      "metadata": {
        "id": "RuWA0VjaK2Vi"
      }
    },
    {
      "cell_type": "code",
      "source": [
        "(train_images, train_labels), _ = mnist.load_data()\n",
        "train_images = train_images.reshape((60000, 28*28))\n",
        "train_images = train_images.astype(\"float32\") / 255\n",
        "\n",
        "model = keras.Sequential([\n",
        "    layers.Dense(512, activation=\"relu\"),\n",
        "    layers.Dense(10, activation=\"softmax\")\n",
        "])\n",
        "\n",
        "model.compile(optimizer=keras.optimizers.RMSprop(1.),\n",
        "              loss=\"sparse_categorical_crossentropy\",\n",
        "              metrics=[\"accuracy\"])\n",
        "\n",
        "model.fit(train_images, train_labels,\n",
        "          epochs=10, batch_size=128, validation_split=0.2)"
      ],
      "metadata": {
        "colab": {
          "base_uri": "https://localhost:8080/"
        },
        "id": "F5kyS8wHvKQ5",
        "outputId": "1f9c9337-5a5e-4d84-bf9b-612da67df365"
      },
      "execution_count": 5,
      "outputs": [
        {
          "output_type": "stream",
          "name": "stdout",
          "text": [
            "Epoch 1/10\n",
            "375/375 [==============================] - 6s 12ms/step - loss: 553.1764 - accuracy: 0.3624 - val_loss: 2.1260 - val_accuracy: 0.2347\n",
            "Epoch 2/10\n",
            "375/375 [==============================] - 4s 11ms/step - loss: 2.7361 - accuracy: 0.2035 - val_loss: 2.8854 - val_accuracy: 0.2134\n",
            "Epoch 3/10\n",
            "375/375 [==============================] - 4s 11ms/step - loss: 2.6296 - accuracy: 0.1847 - val_loss: 2.5801 - val_accuracy: 0.1436\n",
            "Epoch 4/10\n",
            "375/375 [==============================] - 4s 12ms/step - loss: 2.4292 - accuracy: 0.1813 - val_loss: 2.3629 - val_accuracy: 0.2153\n",
            "Epoch 5/10\n",
            "375/375 [==============================] - 6s 15ms/step - loss: 2.4418 - accuracy: 0.2145 - val_loss: 2.1990 - val_accuracy: 0.2488\n",
            "Epoch 6/10\n",
            "375/375 [==============================] - 7s 20ms/step - loss: 2.5522 - accuracy: 0.2289 - val_loss: 2.0654 - val_accuracy: 0.2632\n",
            "Epoch 7/10\n",
            "375/375 [==============================] - 7s 20ms/step - loss: 2.4458 - accuracy: 0.2239 - val_loss: 2.2757 - val_accuracy: 0.1937\n",
            "Epoch 8/10\n",
            "375/375 [==============================] - 8s 22ms/step - loss: 2.4019 - accuracy: 0.2113 - val_loss: 2.1001 - val_accuracy: 0.2095\n",
            "Epoch 9/10\n",
            "375/375 [==============================] - 8s 20ms/step - loss: 2.3213 - accuracy: 0.2226 - val_loss: 2.3710 - val_accuracy: 0.2198\n",
            "Epoch 10/10\n",
            "375/375 [==============================] - 6s 15ms/step - loss: 2.3600 - accuracy: 0.2139 - val_loss: 2.3418 - val_accuracy: 0.2498\n"
          ]
        },
        {
          "output_type": "execute_result",
          "data": {
            "text/plain": [
              "<keras.src.callbacks.History at 0x78e3576f3250>"
            ]
          },
          "metadata": {},
          "execution_count": 5
        }
      ]
    },
    {
      "cell_type": "markdown",
      "source": [
        "5-8 같은 모델로 적절한 학습률로 훈련하기"
      ],
      "metadata": {
        "id": "ZM-wBmpbK5sU"
      }
    },
    {
      "cell_type": "code",
      "source": [
        "model = keras.Sequential([\n",
        "    layers.Dense(512, activation=\"relu\"),\n",
        "    layers.Dense(10, activation=\"softmax\")\n",
        "])\n",
        "\n",
        "model.compile(optimizer=keras.optimizers.RMSprop(1e-2),\n",
        "              loss=\"sparse_categorical_crossentropy\",\n",
        "              metrics=[\"accuracy\"])\n",
        "\n",
        "model.fit(train_images, train_labels,\n",
        "          epochs=10, batch_size=128, validation_split=0.2)"
      ],
      "metadata": {
        "colab": {
          "base_uri": "https://localhost:8080/"
        },
        "id": "eAwGooquwcEI",
        "outputId": "b4e9c057-f743-4adb-cb1a-df65af4ff12b"
      },
      "execution_count": 9,
      "outputs": [
        {
          "output_type": "stream",
          "name": "stdout",
          "text": [
            "Epoch 1/10\n",
            "375/375 [==============================] - 6s 13ms/step - loss: 0.3738 - accuracy: 0.9110 - val_loss: 0.1428 - val_accuracy: 0.9582\n",
            "Epoch 2/10\n",
            "375/375 [==============================] - 5s 13ms/step - loss: 0.1242 - accuracy: 0.9651 - val_loss: 0.1397 - val_accuracy: 0.9652\n",
            "Epoch 3/10\n",
            "375/375 [==============================] - 6s 17ms/step - loss: 0.0951 - accuracy: 0.9745 - val_loss: 0.1832 - val_accuracy: 0.9620\n",
            "Epoch 4/10\n",
            "375/375 [==============================] - 9s 23ms/step - loss: 0.0831 - accuracy: 0.9786 - val_loss: 0.1522 - val_accuracy: 0.9705\n",
            "Epoch 5/10\n",
            "375/375 [==============================] - 6s 15ms/step - loss: 0.0712 - accuracy: 0.9822 - val_loss: 0.1678 - val_accuracy: 0.9712\n",
            "Epoch 6/10\n",
            "375/375 [==============================] - 7s 19ms/step - loss: 0.0599 - accuracy: 0.9849 - val_loss: 0.2361 - val_accuracy: 0.9636\n",
            "Epoch 7/10\n",
            "375/375 [==============================] - 7s 19ms/step - loss: 0.0490 - accuracy: 0.9877 - val_loss: 0.1719 - val_accuracy: 0.9737\n",
            "Epoch 8/10\n",
            "375/375 [==============================] - 5s 15ms/step - loss: 0.0414 - accuracy: 0.9898 - val_loss: 0.2232 - val_accuracy: 0.9702\n",
            "Epoch 9/10\n",
            "375/375 [==============================] - 6s 15ms/step - loss: 0.0502 - accuracy: 0.9888 - val_loss: 0.2152 - val_accuracy: 0.9714\n",
            "Epoch 10/10\n",
            "375/375 [==============================] - 7s 19ms/step - loss: 0.0372 - accuracy: 0.9911 - val_loss: 0.2107 - val_accuracy: 0.9740\n"
          ]
        },
        {
          "output_type": "execute_result",
          "data": {
            "text/plain": [
              "<keras.src.callbacks.History at 0x78e357f6b8b0>"
            ]
          },
          "metadata": {},
          "execution_count": 9
        }
      ]
    },
    {
      "cell_type": "markdown",
      "source": [
        "5-9 MNIST 데이터를 사용한 간단한 로지스틱 회귀 모델"
      ],
      "metadata": {
        "id": "uG2b1A_xK-gu"
      }
    },
    {
      "cell_type": "markdown",
      "source": [
        "불충분한 모델"
      ],
      "metadata": {
        "id": "hzMheBFoxzwx"
      }
    },
    {
      "cell_type": "code",
      "source": [
        "model = keras.Sequential([layers.Dense(10, activation=\"softmax\")])\n",
        "\n",
        "model.compile(optimizer=\"rmsprop\",\n",
        "              loss=\"sparse_categorical_crossentropy\",\n",
        "              metrics=[\"accuracy\"])\n",
        "\n",
        "history_small_model = model.fit(\n",
        "    train_images, train_labels,\n",
        "    epochs=20, batch_size=128, validation_split=0.2\n",
        ")"
      ],
      "metadata": {
        "colab": {
          "base_uri": "https://localhost:8080/"
        },
        "id": "BtL-K0IFxDH5",
        "outputId": "4f0e9d54-13de-484f-8ab7-16ceb5316ff6"
      },
      "execution_count": 11,
      "outputs": [
        {
          "output_type": "stream",
          "name": "stdout",
          "text": [
            "Epoch 1/20\n",
            "375/375 [==============================] - 5s 11ms/step - loss: 0.6768 - accuracy: 0.8320 - val_loss: 0.3611 - val_accuracy: 0.9023\n",
            "Epoch 2/20\n",
            "375/375 [==============================] - 1s 3ms/step - loss: 0.3528 - accuracy: 0.9029 - val_loss: 0.3115 - val_accuracy: 0.9140\n",
            "Epoch 3/20\n",
            "375/375 [==============================] - 1s 4ms/step - loss: 0.3178 - accuracy: 0.9118 - val_loss: 0.2938 - val_accuracy: 0.9179\n",
            "Epoch 4/20\n",
            "375/375 [==============================] - 2s 6ms/step - loss: 0.3018 - accuracy: 0.9160 - val_loss: 0.2835 - val_accuracy: 0.9218\n",
            "Epoch 5/20\n",
            "375/375 [==============================] - 2s 5ms/step - loss: 0.2921 - accuracy: 0.9188 - val_loss: 0.2794 - val_accuracy: 0.9216\n",
            "Epoch 6/20\n",
            "375/375 [==============================] - 2s 4ms/step - loss: 0.2853 - accuracy: 0.9206 - val_loss: 0.2763 - val_accuracy: 0.9249\n",
            "Epoch 7/20\n",
            "375/375 [==============================] - 2s 5ms/step - loss: 0.2804 - accuracy: 0.9218 - val_loss: 0.2752 - val_accuracy: 0.9227\n",
            "Epoch 8/20\n",
            "375/375 [==============================] - 3s 7ms/step - loss: 0.2766 - accuracy: 0.9231 - val_loss: 0.2728 - val_accuracy: 0.9246\n",
            "Epoch 9/20\n",
            "375/375 [==============================] - 2s 7ms/step - loss: 0.2738 - accuracy: 0.9236 - val_loss: 0.2698 - val_accuracy: 0.9276\n",
            "Epoch 10/20\n",
            "375/375 [==============================] - 3s 9ms/step - loss: 0.2707 - accuracy: 0.9250 - val_loss: 0.2682 - val_accuracy: 0.9276\n",
            "Epoch 11/20\n",
            "375/375 [==============================] - 2s 4ms/step - loss: 0.2685 - accuracy: 0.9259 - val_loss: 0.2662 - val_accuracy: 0.9281\n",
            "Epoch 12/20\n",
            "375/375 [==============================] - 3s 8ms/step - loss: 0.2664 - accuracy: 0.9265 - val_loss: 0.2649 - val_accuracy: 0.9273\n",
            "Epoch 13/20\n",
            "375/375 [==============================] - 3s 8ms/step - loss: 0.2651 - accuracy: 0.9273 - val_loss: 0.2653 - val_accuracy: 0.9289\n",
            "Epoch 14/20\n",
            "375/375 [==============================] - 4s 10ms/step - loss: 0.2633 - accuracy: 0.9279 - val_loss: 0.2638 - val_accuracy: 0.9285\n",
            "Epoch 15/20\n",
            "375/375 [==============================] - 2s 6ms/step - loss: 0.2617 - accuracy: 0.9285 - val_loss: 0.2647 - val_accuracy: 0.9291\n",
            "Epoch 16/20\n",
            "375/375 [==============================] - 2s 6ms/step - loss: 0.2603 - accuracy: 0.9283 - val_loss: 0.2634 - val_accuracy: 0.9288\n",
            "Epoch 17/20\n",
            "375/375 [==============================] - 1s 4ms/step - loss: 0.2594 - accuracy: 0.9289 - val_loss: 0.2640 - val_accuracy: 0.9297\n",
            "Epoch 18/20\n",
            "375/375 [==============================] - 2s 5ms/step - loss: 0.2581 - accuracy: 0.9293 - val_loss: 0.2643 - val_accuracy: 0.9293\n",
            "Epoch 19/20\n",
            "375/375 [==============================] - 3s 9ms/step - loss: 0.2572 - accuracy: 0.9296 - val_loss: 0.2628 - val_accuracy: 0.9308\n",
            "Epoch 20/20\n",
            "375/375 [==============================] - 2s 4ms/step - loss: 0.2564 - accuracy: 0.9303 - val_loss: 0.2636 - val_accuracy: 0.9300\n"
          ]
        }
      ]
    },
    {
      "cell_type": "code",
      "source": [
        "val_loss = history_small_model.history[\"val_loss\"]\n",
        "epochs = range(1, 21)\n",
        "plt.plot(epochs, val_loss, \"b--\", label=\"Validation loss\")\n",
        "plt.title(\"Effect of insufficient model capacity on validation loss\")\n",
        "plt.xlabel(\"Epochs\")\n",
        "plt.ylabel(\"Loss\")\n",
        "plt.legend()\n",
        "plt.show()"
      ],
      "metadata": {
        "colab": {
          "base_uri": "https://localhost:8080/",
          "height": 472
        },
        "id": "ac2eFgnRxXzU",
        "outputId": "665f361a-7289-445f-d377-b20b5140fc0e"
      },
      "execution_count": 12,
      "outputs": [
        {
          "output_type": "display_data",
          "data": {
            "text/plain": [
              "<Figure size 640x480 with 1 Axes>"
            ],
            "image/png": "[encoded data removed]"
          },
          "metadata": {}
        }
      ]
    },
    {
      "cell_type": "markdown",
      "source": [
        "용량이 더 큰 모델"
      ],
      "metadata": {
        "id": "AwKs4Ajcx9XY"
      }
    },
    {
      "cell_type": "code",
      "source": [
        "model = keras.Sequential([layers.Dense(96, activation=\"relu\"),\n",
        "                          layers.Dense(96, activation=\"relu\"),\n",
        "                          layers.Dense(10, activation=\"softmax\")])\n",
        "\n",
        "model.compile(optimizer=\"rmsprop\",\n",
        "              loss=\"sparse_categorical_crossentropy\",\n",
        "              metrics=[\"accuracy\"])\n",
        "\n",
        "history_small_model = model.fit(\n",
        "    train_images, train_labels,\n",
        "    epochs=20, batch_size=128, validation_split=0.2\n",
        ")"
      ],
      "metadata": {
        "colab": {
          "base_uri": "https://localhost:8080/"
        },
        "id": "rDhK5u7ZxXr3",
        "outputId": "124419c6-0180-4760-8d27-30cb61508348"
      },
      "execution_count": 14,
      "outputs": [
        {
          "output_type": "stream",
          "name": "stdout",
          "text": [
            "Epoch 1/20\n",
            "375/375 [==============================] - 2s 5ms/step - loss: 0.3710 - accuracy: 0.8945 - val_loss: 0.1978 - val_accuracy: 0.9429\n",
            "Epoch 2/20\n",
            "375/375 [==============================] - 2s 5ms/step - loss: 0.1701 - accuracy: 0.9493 - val_loss: 0.1554 - val_accuracy: 0.9550\n",
            "Epoch 3/20\n",
            "375/375 [==============================] - 3s 9ms/step - loss: 0.1203 - accuracy: 0.9643 - val_loss: 0.1244 - val_accuracy: 0.9631\n",
            "Epoch 4/20\n",
            "375/375 [==============================] - 3s 8ms/step - loss: 0.0927 - accuracy: 0.9724 - val_loss: 0.1055 - val_accuracy: 0.9685\n",
            "Epoch 5/20\n",
            "375/375 [==============================] - 2s 5ms/step - loss: 0.0739 - accuracy: 0.9775 - val_loss: 0.1007 - val_accuracy: 0.9702\n",
            "Epoch 6/20\n",
            "375/375 [==============================] - 2s 5ms/step - loss: 0.0608 - accuracy: 0.9816 - val_loss: 0.0997 - val_accuracy: 0.9699\n",
            "Epoch 7/20\n",
            "375/375 [==============================] - 2s 4ms/step - loss: 0.0498 - accuracy: 0.9847 - val_loss: 0.1003 - val_accuracy: 0.9700\n",
            "Epoch 8/20\n",
            "375/375 [==============================] - 2s 5ms/step - loss: 0.0422 - accuracy: 0.9872 - val_loss: 0.1013 - val_accuracy: 0.9707\n",
            "Epoch 9/20\n",
            "375/375 [==============================] - 2s 6ms/step - loss: 0.0352 - accuracy: 0.9893 - val_loss: 0.0972 - val_accuracy: 0.9736\n",
            "Epoch 10/20\n",
            "375/375 [==============================] - 3s 9ms/step - loss: 0.0306 - accuracy: 0.9906 - val_loss: 0.0920 - val_accuracy: 0.9748\n",
            "Epoch 11/20\n",
            "375/375 [==============================] - 2s 4ms/step - loss: 0.0255 - accuracy: 0.9924 - val_loss: 0.0999 - val_accuracy: 0.9743\n",
            "Epoch 12/20\n",
            "375/375 [==============================] - 2s 5ms/step - loss: 0.0217 - accuracy: 0.9930 - val_loss: 0.1004 - val_accuracy: 0.9751\n",
            "Epoch 13/20\n",
            "375/375 [==============================] - 2s 5ms/step - loss: 0.0181 - accuracy: 0.9948 - val_loss: 0.0996 - val_accuracy: 0.9759\n",
            "Epoch 14/20\n",
            "375/375 [==============================] - 2s 4ms/step - loss: 0.0157 - accuracy: 0.9955 - val_loss: 0.1003 - val_accuracy: 0.9770\n",
            "Epoch 15/20\n",
            "375/375 [==============================] - 2s 5ms/step - loss: 0.0134 - accuracy: 0.9960 - val_loss: 0.1156 - val_accuracy: 0.9741\n",
            "Epoch 16/20\n",
            "375/375 [==============================] - 3s 7ms/step - loss: 0.0115 - accuracy: 0.9966 - val_loss: 0.1104 - val_accuracy: 0.9753\n",
            "Epoch 17/20\n",
            "375/375 [==============================] - 2s 4ms/step - loss: 0.0104 - accuracy: 0.9968 - val_loss: 0.1208 - val_accuracy: 0.9743\n",
            "Epoch 18/20\n",
            "375/375 [==============================] - 2s 5ms/step - loss: 0.0084 - accuracy: 0.9973 - val_loss: 0.1353 - val_accuracy: 0.9737\n",
            "Epoch 19/20\n",
            "375/375 [==============================] - 2s 5ms/step - loss: 0.0071 - accuracy: 0.9977 - val_loss: 0.1237 - val_accuracy: 0.9753\n",
            "Epoch 20/20\n",
            "375/375 [==============================] - 2s 5ms/step - loss: 0.0060 - accuracy: 0.9981 - val_loss: 0.1305 - val_accuracy: 0.9748\n"
          ]
        }
      ]
    },
    {
      "cell_type": "code",
      "source": [
        "val_loss = history_small_model.history[\"val_loss\"]\n",
        "epochs = range(1, 21)\n",
        "plt.plot(epochs, val_loss, \"b--\", label=\"Validation loss\")\n",
        "plt.title(\"Effect of insufficient model capacity on validation loss\")\n",
        "plt.xlabel(\"Epochs\")\n",
        "plt.ylabel(\"Loss\")\n",
        "plt.legend()\n",
        "plt.show()"
      ],
      "metadata": {
        "colab": {
          "base_uri": "https://localhost:8080/",
          "height": 472
        },
        "id": "wtreEv6TyuhQ",
        "outputId": "cc414737-dd51-48e3-a74e-3fe2b236548f"
      },
      "execution_count": 15,
      "outputs": [
        {
          "output_type": "display_data",
          "data": {
            "text/plain": [
              "<Figure size 640x480 with 1 Axes>"
            ],
            "image/png": "[encoded data removed]"
          },
          "metadata": {}
        }
      ]
    },
    {
      "cell_type": "markdown",
      "source": [
        "## 5.4 일반화 성능 향상하기"
      ],
      "metadata": {
        "id": "WNIIq-KpLCw-"
      }
    },
    {
      "cell_type": "markdown",
      "source": [
        "5-10 원본 모델"
      ],
      "metadata": {
        "id": "kPqtYJsELF6n"
      }
    },
    {
      "cell_type": "code",
      "source": [
        "from tensorflow.keras.datasets import imdb"
      ],
      "metadata": {
        "id": "em84QYvky-7H"
      },
      "execution_count": 16,
      "outputs": []
    },
    {
      "cell_type": "code",
      "source": [
        "(train_data, train_labels), _ = imdb.load_data(num_words=10000)\n",
        "\n",
        "def vectorize_sequences(sequences, dimension=10000):\n",
        "  results = np.zeros((len(sequences), dimension))\n",
        "  for i, sequence in enumerate(sequences):\n",
        "    results[i, sequence] = 1.\n",
        "  return results\n",
        "train_data = vectorize_sequences(train_data)"
      ],
      "metadata": {
        "id": "XWHvJzpSzDI4"
      },
      "execution_count": 18,
      "outputs": []
    },
    {
      "cell_type": "code",
      "source": [
        "model = keras.Sequential([\n",
        "    layers.Dense(16, activation=\"relu\"),\n",
        "    layers.Dense(16, activation=\"relu\"),\n",
        "    layers.Dense(1, activation=\"sigmoid\")\n",
        "])\n",
        "\n",
        "model.compile(optimizer=\"rmsprop\",\n",
        "              loss=\"binary_crossentropy\",\n",
        "              metrics=[\"accuracy\"])\n",
        "\n",
        "history_original = model.fit(train_data, train_labels,\n",
        "                             epochs=20, batch_size=512, validation_split=0.4)"
      ],
      "metadata": {
        "colab": {
          "base_uri": "https://localhost:8080/"
        },
        "id": "TA0iUmD00aav",
        "outputId": "7ccc90f0-2dfb-404e-c03a-323eff23b0e4"
      },
      "execution_count": 19,
      "outputs": [
        {
          "output_type": "stream",
          "name": "stdout",
          "text": [
            "Epoch 1/20\n",
            "30/30 [==============================] - 3s 88ms/step - loss: 0.5423 - accuracy: 0.7573 - val_loss: 0.4259 - val_accuracy: 0.8342\n",
            "Epoch 2/20\n",
            "30/30 [==============================] - 2s 54ms/step - loss: 0.3396 - accuracy: 0.8911 - val_loss: 0.3192 - val_accuracy: 0.8870\n",
            "Epoch 3/20\n",
            "30/30 [==============================] - 1s 37ms/step - loss: 0.2511 - accuracy: 0.9200 - val_loss: 0.2918 - val_accuracy: 0.8877\n",
            "Epoch 4/20\n",
            "30/30 [==============================] - 2s 81ms/step - loss: 0.2008 - accuracy: 0.9340 - val_loss: 0.2865 - val_accuracy: 0.8860\n",
            "Epoch 5/20\n",
            "30/30 [==============================] - 4s 124ms/step - loss: 0.1650 - accuracy: 0.9465 - val_loss: 0.2767 - val_accuracy: 0.8921\n",
            "Epoch 6/20\n",
            "30/30 [==============================] - 2s 56ms/step - loss: 0.1398 - accuracy: 0.9552 - val_loss: 0.2853 - val_accuracy: 0.8886\n",
            "Epoch 7/20\n",
            "30/30 [==============================] - 3s 99ms/step - loss: 0.1175 - accuracy: 0.9649 - val_loss: 0.3041 - val_accuracy: 0.8826\n",
            "Epoch 8/20\n",
            "30/30 [==============================] - 2s 74ms/step - loss: 0.0992 - accuracy: 0.9717 - val_loss: 0.3127 - val_accuracy: 0.8827\n",
            "Epoch 9/20\n",
            "30/30 [==============================] - 2s 57ms/step - loss: 0.0874 - accuracy: 0.9756 - val_loss: 0.3646 - val_accuracy: 0.8746\n",
            "Epoch 10/20\n",
            "30/30 [==============================] - 2s 52ms/step - loss: 0.0771 - accuracy: 0.9789 - val_loss: 0.3492 - val_accuracy: 0.8807\n",
            "Epoch 11/20\n",
            "30/30 [==============================] - 2s 63ms/step - loss: 0.0618 - accuracy: 0.9851 - val_loss: 0.3692 - val_accuracy: 0.8793\n",
            "Epoch 12/20\n",
            "30/30 [==============================] - 2s 67ms/step - loss: 0.0541 - accuracy: 0.9876 - val_loss: 0.3882 - val_accuracy: 0.8794\n",
            "Epoch 13/20\n",
            "30/30 [==============================] - 2s 56ms/step - loss: 0.0468 - accuracy: 0.9892 - val_loss: 0.4099 - val_accuracy: 0.8762\n",
            "Epoch 14/20\n",
            "30/30 [==============================] - 2s 61ms/step - loss: 0.0373 - accuracy: 0.9931 - val_loss: 0.4328 - val_accuracy: 0.8760\n",
            "Epoch 15/20\n",
            "30/30 [==============================] - 2s 67ms/step - loss: 0.0328 - accuracy: 0.9937 - val_loss: 0.4736 - val_accuracy: 0.8727\n",
            "Epoch 16/20\n",
            "30/30 [==============================] - 2s 62ms/step - loss: 0.0303 - accuracy: 0.9937 - val_loss: 0.4765 - val_accuracy: 0.8741\n",
            "Epoch 17/20\n",
            "30/30 [==============================] - 2s 61ms/step - loss: 0.0210 - accuracy: 0.9978 - val_loss: 0.4986 - val_accuracy: 0.8720\n",
            "Epoch 18/20\n",
            "30/30 [==============================] - 2s 62ms/step - loss: 0.0228 - accuracy: 0.9956 - val_loss: 0.5195 - val_accuracy: 0.8732\n",
            "Epoch 19/20\n",
            "30/30 [==============================] - 2s 59ms/step - loss: 0.0187 - accuracy: 0.9971 - val_loss: 0.5373 - val_accuracy: 0.8717\n",
            "Epoch 20/20\n",
            "30/30 [==============================] - 2s 62ms/step - loss: 0.0169 - accuracy: 0.9969 - val_loss: 0.5597 - val_accuracy: 0.8714\n"
          ]
        }
      ]
    },
    {
      "cell_type": "markdown",
      "source": [
        "5-11 작은 용량의 모델"
      ],
      "metadata": {
        "id": "KBbff6MOLHsO"
      }
    },
    {
      "cell_type": "code",
      "source": [
        "model = keras.Sequential([\n",
        "    layers.Dense(4, activation=\"relu\"),\n",
        "    layers.Dense(4, activation=\"relu\"),\n",
        "    layers.Dense(1, activation=\"sigmoid\")\n",
        "])\n",
        "\n",
        "model.compile(optimizer=\"rmsprop\",\n",
        "              loss=\"binary_crossentropy\",\n",
        "              metrics=[\"accuracy\"])\n",
        "\n",
        "history_smaller_model = model.fit(\n",
        "    train_data, train_labels, epochs=20, batch_size=512, validation_split=0.4\n",
        ")"
      ],
      "metadata": {
        "colab": {
          "base_uri": "https://localhost:8080/"
        },
        "id": "jHnrAPB70vRk",
        "outputId": "4324e948-0ccf-411e-e003-72713baa56b8"
      },
      "execution_count": 21,
      "outputs": [
        {
          "output_type": "stream",
          "name": "stdout",
          "text": [
            "Epoch 1/20\n",
            "30/30 [==============================] - 4s 76ms/step - loss: 0.6379 - accuracy: 0.6193 - val_loss: 0.5829 - val_accuracy: 0.6896\n",
            "Epoch 2/20\n",
            "30/30 [==============================] - 1s 36ms/step - loss: 0.5402 - accuracy: 0.7769 - val_loss: 0.5295 - val_accuracy: 0.7860\n",
            "Epoch 3/20\n",
            "30/30 [==============================] - 1s 35ms/step - loss: 0.4875 - accuracy: 0.8451 - val_loss: 0.5034 - val_accuracy: 0.8028\n",
            "Epoch 4/20\n",
            "30/30 [==============================] - 1s 47ms/step - loss: 0.4509 - accuracy: 0.8790 - val_loss: 0.4784 - val_accuracy: 0.8687\n",
            "Epoch 5/20\n",
            "30/30 [==============================] - 2s 54ms/step - loss: 0.4222 - accuracy: 0.9033 - val_loss: 0.4639 - val_accuracy: 0.8638\n",
            "Epoch 6/20\n",
            "30/30 [==============================] - 1s 35ms/step - loss: 0.3974 - accuracy: 0.9194 - val_loss: 0.4520 - val_accuracy: 0.8802\n",
            "Epoch 7/20\n",
            "30/30 [==============================] - 1s 34ms/step - loss: 0.3753 - accuracy: 0.9345 - val_loss: 0.4455 - val_accuracy: 0.8729\n",
            "Epoch 8/20\n",
            "30/30 [==============================] - 1s 35ms/step - loss: 0.3551 - accuracy: 0.9433 - val_loss: 0.4467 - val_accuracy: 0.8667\n",
            "Epoch 9/20\n",
            "30/30 [==============================] - 1s 35ms/step - loss: 0.3359 - accuracy: 0.9517 - val_loss: 0.4454 - val_accuracy: 0.8663\n",
            "Epoch 10/20\n",
            "30/30 [==============================] - 1s 34ms/step - loss: 0.3178 - accuracy: 0.9576 - val_loss: 0.4488 - val_accuracy: 0.8646\n",
            "Epoch 11/20\n",
            "30/30 [==============================] - 1s 34ms/step - loss: 0.3000 - accuracy: 0.9649 - val_loss: 0.4208 - val_accuracy: 0.8787\n",
            "Epoch 12/20\n",
            "30/30 [==============================] - 1s 35ms/step - loss: 0.2844 - accuracy: 0.9712 - val_loss: 0.4429 - val_accuracy: 0.8690\n",
            "Epoch 13/20\n",
            "30/30 [==============================] - 1s 33ms/step - loss: 0.2683 - accuracy: 0.9743 - val_loss: 0.4295 - val_accuracy: 0.8766\n",
            "Epoch 14/20\n",
            "30/30 [==============================] - 1s 34ms/step - loss: 0.2536 - accuracy: 0.9790 - val_loss: 0.4318 - val_accuracy: 0.8755\n",
            "Epoch 15/20\n",
            "30/30 [==============================] - 1s 36ms/step - loss: 0.2395 - accuracy: 0.9808 - val_loss: 0.4195 - val_accuracy: 0.8764\n",
            "Epoch 16/20\n",
            "30/30 [==============================] - 2s 56ms/step - loss: 0.2253 - accuracy: 0.9841 - val_loss: 0.4257 - val_accuracy: 0.8746\n",
            "Epoch 17/20\n",
            "30/30 [==============================] - 1s 44ms/step - loss: 0.2134 - accuracy: 0.9851 - val_loss: 0.4660 - val_accuracy: 0.8698\n",
            "Epoch 18/20\n",
            "30/30 [==============================] - 1s 33ms/step - loss: 0.2003 - accuracy: 0.9867 - val_loss: 0.4449 - val_accuracy: 0.8722\n",
            "Epoch 19/20\n",
            "30/30 [==============================] - 1s 34ms/step - loss: 0.1884 - accuracy: 0.9887 - val_loss: 0.4723 - val_accuracy: 0.8689\n",
            "Epoch 20/20\n",
            "30/30 [==============================] - 1s 34ms/step - loss: 0.1770 - accuracy: 0.9896 - val_loss: 0.5004 - val_accuracy: 0.8670\n"
          ]
        }
      ]
    },
    {
      "cell_type": "markdown",
      "source": [
        "5-12 큰 용량의 모델"
      ],
      "metadata": {
        "id": "ThF_a3FkLJ8Q"
      }
    },
    {
      "cell_type": "code",
      "source": [
        "model = keras.Sequential([\n",
        "    layers.Dense(512, activation=\"relu\"),\n",
        "    layers.Dense(512, activation=\"relu\"),\n",
        "    layers.Dense(1, activation=\"sigmoid\")\n",
        "])\n",
        "\n",
        "model.compile(optimizer=\"rmsprop\",\n",
        "              loss=\"binary_crossentropy\",\n",
        "              metrics=[\"accuracy\"])\n",
        "\n",
        "history_larger_model = model.fit(\n",
        "    train_data, train_labels,\n",
        "    epochs=20, batch_size=512, validation_split=0.4\n",
        ")"
      ],
      "metadata": {
        "colab": {
          "base_uri": "https://localhost:8080/"
        },
        "id": "2KaVFf0-1Omu",
        "outputId": "3e867fab-332c-4164-866f-8174561dc947"
      },
      "execution_count": 24,
      "outputs": [
        {
          "output_type": "stream",
          "name": "stdout",
          "text": [
            "Epoch 1/20\n",
            "30/30 [==============================] - 19s 601ms/step - loss: 0.5669 - accuracy: 0.7326 - val_loss: 0.3444 - val_accuracy: 0.8610\n",
            "Epoch 2/20\n",
            "30/30 [==============================] - 20s 690ms/step - loss: 0.3388 - accuracy: 0.8576 - val_loss: 0.3493 - val_accuracy: 0.8539\n",
            "Epoch 3/20\n",
            "30/30 [==============================] - 17s 561ms/step - loss: 0.2317 - accuracy: 0.9067 - val_loss: 0.7794 - val_accuracy: 0.7135\n",
            "Epoch 4/20\n",
            "30/30 [==============================] - 17s 575ms/step - loss: 0.1909 - accuracy: 0.9294 - val_loss: 0.4371 - val_accuracy: 0.8407\n",
            "Epoch 5/20\n",
            "30/30 [==============================] - 18s 604ms/step - loss: 0.1541 - accuracy: 0.9414 - val_loss: 0.3809 - val_accuracy: 0.8619\n",
            "Epoch 6/20\n",
            "30/30 [==============================] - 15s 516ms/step - loss: 0.1044 - accuracy: 0.9641 - val_loss: 0.3442 - val_accuracy: 0.8777\n",
            "Epoch 7/20\n",
            "30/30 [==============================] - 15s 505ms/step - loss: 0.0952 - accuracy: 0.9661 - val_loss: 0.3057 - val_accuracy: 0.8819\n",
            "Epoch 8/20\n",
            "30/30 [==============================] - 22s 747ms/step - loss: 0.0751 - accuracy: 0.9759 - val_loss: 0.3327 - val_accuracy: 0.8855\n",
            "Epoch 9/20\n",
            "30/30 [==============================] - 19s 626ms/step - loss: 0.0166 - accuracy: 0.9976 - val_loss: 0.4852 - val_accuracy: 0.8735\n",
            "Epoch 10/20\n",
            "30/30 [==============================] - 16s 529ms/step - loss: 0.0721 - accuracy: 0.9795 - val_loss: 0.4216 - val_accuracy: 0.8829\n",
            "Epoch 11/20\n",
            "30/30 [==============================] - 15s 492ms/step - loss: 0.0076 - accuracy: 0.9987 - val_loss: 1.6575 - val_accuracy: 0.7197\n",
            "Epoch 12/20\n",
            "30/30 [==============================] - 15s 506ms/step - loss: 0.0689 - accuracy: 0.9832 - val_loss: 0.4566 - val_accuracy: 0.8839\n",
            "Epoch 13/20\n",
            "30/30 [==============================] - 16s 523ms/step - loss: 0.0028 - accuracy: 0.9999 - val_loss: 0.5292 - val_accuracy: 0.8809\n",
            "Epoch 14/20\n",
            "30/30 [==============================] - 12s 401ms/step - loss: 0.0857 - accuracy: 0.9829 - val_loss: 0.4330 - val_accuracy: 0.8830\n",
            "Epoch 15/20\n",
            "30/30 [==============================] - 16s 559ms/step - loss: 0.0027 - accuracy: 1.0000 - val_loss: 0.5097 - val_accuracy: 0.8827\n",
            "Epoch 16/20\n",
            "30/30 [==============================] - 17s 574ms/step - loss: 0.0012 - accuracy: 1.0000 - val_loss: 0.5794 - val_accuracy: 0.8815\n",
            "Epoch 17/20\n",
            "30/30 [==============================] - 17s 583ms/step - loss: 7.0287e-04 - accuracy: 1.0000 - val_loss: 0.6361 - val_accuracy: 0.8826\n",
            "Epoch 18/20\n",
            "30/30 [==============================] - 17s 566ms/step - loss: 4.6310e-04 - accuracy: 1.0000 - val_loss: 0.6804 - val_accuracy: 0.8797\n",
            "Epoch 19/20\n",
            "30/30 [==============================] - 15s 503ms/step - loss: 3.2571e-04 - accuracy: 1.0000 - val_loss: 0.6890 - val_accuracy: 0.8813\n",
            "Epoch 20/20\n",
            "30/30 [==============================] - 17s 591ms/step - loss: 2.2907e-04 - accuracy: 1.0000 - val_loss: 0.7144 - val_accuracy: 0.8816\n"
          ]
        }
      ]
    },
    {
      "cell_type": "markdown",
      "source": [
        "5-13 모델에 L2 가중치 추가하기"
      ],
      "metadata": {
        "id": "k9LzeO1ZLL6E"
      }
    },
    {
      "cell_type": "code",
      "source": [
        "from tensorflow.keras import regularizers"
      ],
      "metadata": {
        "id": "zUuo1Jvc1r7K"
      },
      "execution_count": 25,
      "outputs": []
    },
    {
      "cell_type": "code",
      "source": [
        "model = keras.Sequential([\n",
        "    layers.Dense(16, kernel_regularizer=regularizers.l2(0.002), activation=\"relu\"),\n",
        "    layers.Dense(16, kernel_regularizer=regularizers.l2(0.002), activation=\"relu\"),\n",
        "    layers.Dense(1, activation=\"sigmoid\")\n",
        "])\n",
        "\n",
        "model.compile(optimizer=\"rmsprop\",\n",
        "              loss=\"binary_crossentropy\",\n",
        "              metrics=[\"accuracy\"])\n",
        "\n",
        "history_l2_reg = model.fit(\n",
        "    train_data, train_labels, epochs=20, batch_size=512, validation_split=0.4\n",
        ")"
      ],
      "metadata": {
        "colab": {
          "base_uri": "https://localhost:8080/"
        },
        "id": "WYQztjZo1vY2",
        "outputId": "826024a1-a443-4673-dc08-2cec705cd658"
      },
      "execution_count": 27,
      "outputs": [
        {
          "output_type": "stream",
          "name": "stdout",
          "text": [
            "Epoch 1/20\n",
            "30/30 [==============================] - 5s 133ms/step - loss: 0.6339 - accuracy: 0.7685 - val_loss: 0.4887 - val_accuracy: 0.8669\n",
            "Epoch 2/20\n",
            "30/30 [==============================] - 1s 36ms/step - loss: 0.4251 - accuracy: 0.8835 - val_loss: 0.4111 - val_accuracy: 0.8734\n",
            "Epoch 3/20\n",
            "30/30 [==============================] - 2s 55ms/step - loss: 0.3501 - accuracy: 0.9044 - val_loss: 0.4150 - val_accuracy: 0.8615\n",
            "Epoch 4/20\n",
            "30/30 [==============================] - 2s 59ms/step - loss: 0.3110 - accuracy: 0.9213 - val_loss: 0.3711 - val_accuracy: 0.8814\n",
            "Epoch 5/20\n",
            "30/30 [==============================] - 1s 34ms/step - loss: 0.2903 - accuracy: 0.9262 - val_loss: 0.3607 - val_accuracy: 0.8871\n",
            "Epoch 6/20\n",
            "30/30 [==============================] - 1s 36ms/step - loss: 0.2745 - accuracy: 0.9329 - val_loss: 0.3651 - val_accuracy: 0.8849\n",
            "Epoch 7/20\n",
            "30/30 [==============================] - 1s 34ms/step - loss: 0.2599 - accuracy: 0.9410 - val_loss: 0.4292 - val_accuracy: 0.8618\n",
            "Epoch 8/20\n",
            "30/30 [==============================] - 1s 35ms/step - loss: 0.2557 - accuracy: 0.9403 - val_loss: 0.4030 - val_accuracy: 0.8705\n",
            "Epoch 9/20\n",
            "30/30 [==============================] - 1s 36ms/step - loss: 0.2465 - accuracy: 0.9450 - val_loss: 0.3773 - val_accuracy: 0.8815\n",
            "Epoch 10/20\n",
            "30/30 [==============================] - 1s 36ms/step - loss: 0.2425 - accuracy: 0.9459 - val_loss: 0.3914 - val_accuracy: 0.8777\n",
            "Epoch 11/20\n",
            "30/30 [==============================] - 1s 47ms/step - loss: 0.2375 - accuracy: 0.9471 - val_loss: 0.3815 - val_accuracy: 0.8809\n",
            "Epoch 12/20\n",
            "30/30 [==============================] - 1s 34ms/step - loss: 0.2280 - accuracy: 0.9518 - val_loss: 0.4207 - val_accuracy: 0.8695\n",
            "Epoch 13/20\n",
            "30/30 [==============================] - 1s 35ms/step - loss: 0.2305 - accuracy: 0.9491 - val_loss: 0.3890 - val_accuracy: 0.8783\n",
            "Epoch 14/20\n",
            "30/30 [==============================] - 2s 55ms/step - loss: 0.2225 - accuracy: 0.9535 - val_loss: 0.3965 - val_accuracy: 0.8788\n",
            "Epoch 15/20\n",
            "30/30 [==============================] - 2s 59ms/step - loss: 0.2176 - accuracy: 0.9547 - val_loss: 0.5451 - val_accuracy: 0.8352\n",
            "Epoch 16/20\n",
            "30/30 [==============================] - 1s 46ms/step - loss: 0.2182 - accuracy: 0.9543 - val_loss: 0.3994 - val_accuracy: 0.8782\n",
            "Epoch 17/20\n",
            "30/30 [==============================] - 1s 35ms/step - loss: 0.2154 - accuracy: 0.9555 - val_loss: 0.5262 - val_accuracy: 0.8410\n",
            "Epoch 18/20\n",
            "30/30 [==============================] - 1s 36ms/step - loss: 0.2075 - accuracy: 0.9591 - val_loss: 0.4291 - val_accuracy: 0.8719\n",
            "Epoch 19/20\n",
            "30/30 [==============================] - 1s 34ms/step - loss: 0.2053 - accuracy: 0.9615 - val_loss: 0.4102 - val_accuracy: 0.8776\n",
            "Epoch 20/20\n",
            "30/30 [==============================] - 1s 32ms/step - loss: 0.2076 - accuracy: 0.9580 - val_loss: 0.4206 - val_accuracy: 0.8734\n"
          ]
        }
      ]
    },
    {
      "cell_type": "markdown",
      "source": [
        "5-14 케라스에서 사용할수 있는 가중치 규제"
      ],
      "metadata": {
        "id": "9cbiJ_wDLQGS"
      }
    },
    {
      "cell_type": "code",
      "source": [
        "from tensorflow.keras import regularizers"
      ],
      "metadata": {
        "id": "ZREreZG52RSa"
      },
      "execution_count": 28,
      "outputs": []
    },
    {
      "cell_type": "code",
      "source": [
        "regularizers.l1(0.001)  # L1 규제\n",
        "regularizers.l1_l2(l1=0.001, l2=0.001)  # L1규제와 L2규제 병행"
      ],
      "metadata": {
        "colab": {
          "base_uri": "https://localhost:8080/"
        },
        "id": "1yzisbkU1sPe",
        "outputId": "3a57246d-7e54-4010-f6c7-20cea157b385"
      },
      "execution_count": 29,
      "outputs": [
        {
          "output_type": "execute_result",
          "data": {
            "text/plain": [
              "<keras.src.regularizers.L1L2 at 0x78e357c80ac0>"
            ]
          },
          "metadata": {},
          "execution_count": 29
        }
      ]
    },
    {
      "cell_type": "markdown",
      "source": [
        "5-15 IMDB 모델에 드롭아웃 추가하기"
      ],
      "metadata": {
        "id": "U0GsW6VvLTTf"
      }
    },
    {
      "cell_type": "code",
      "source": [
        "model = keras.Sequential([\n",
        "    layers.Dense(16, activation=\"relu\"),\n",
        "    layers.Dropout(0.5),\n",
        "    layers.Dense(16, activation=\"relu\"),\n",
        "    layers.Dropout(0.5),\n",
        "    layers.Dense(1, activation=\"sigmoid\")\n",
        "])\n",
        "\n",
        "model.compile(optimizer=\"rmsprop\",\n",
        "              loss=\"binary_crossentropy\",\n",
        "              metrics=[\"accuracy\"])\n",
        "\n",
        "history_dropout = model.fit(\n",
        "    train_data, train_labels,\n",
        "    epochs=20, batch_size=512, validation_split=0.4\n",
        ")"
      ],
      "metadata": {
        "id": "Q8tb7zjHK1Lz",
        "colab": {
          "base_uri": "https://localhost:8080/"
        },
        "outputId": "6d90f134-57aa-40c0-d5c0-8f912806f4f1"
      },
      "execution_count": 30,
      "outputs": [
        {
          "output_type": "stream",
          "name": "stdout",
          "text": [
            "Epoch 1/20\n",
            "30/30 [==============================] - 6s 128ms/step - loss: 0.6171 - accuracy: 0.6625 - val_loss: 0.4765 - val_accuracy: 0.8416\n",
            "Epoch 2/20\n",
            "30/30 [==============================] - 2s 68ms/step - loss: 0.4751 - accuracy: 0.7938 - val_loss: 0.3575 - val_accuracy: 0.8730\n",
            "Epoch 3/20\n",
            "30/30 [==============================] - 2s 59ms/step - loss: 0.3932 - accuracy: 0.8405 - val_loss: 0.3119 - val_accuracy: 0.8852\n",
            "Epoch 4/20\n",
            "30/30 [==============================] - 2s 65ms/step - loss: 0.3387 - accuracy: 0.8737 - val_loss: 0.2951 - val_accuracy: 0.8839\n",
            "Epoch 5/20\n",
            "30/30 [==============================] - 2s 80ms/step - loss: 0.2982 - accuracy: 0.8901 - val_loss: 0.2754 - val_accuracy: 0.8894\n",
            "Epoch 6/20\n",
            "30/30 [==============================] - 2s 72ms/step - loss: 0.2540 - accuracy: 0.9079 - val_loss: 0.2773 - val_accuracy: 0.8918\n",
            "Epoch 7/20\n",
            "30/30 [==============================] - 2s 66ms/step - loss: 0.2250 - accuracy: 0.9229 - val_loss: 0.2835 - val_accuracy: 0.8912\n",
            "Epoch 8/20\n",
            "30/30 [==============================] - 2s 65ms/step - loss: 0.2061 - accuracy: 0.9316 - val_loss: 0.2942 - val_accuracy: 0.8899\n",
            "Epoch 9/20\n",
            "30/30 [==============================] - 2s 63ms/step - loss: 0.1832 - accuracy: 0.9413 - val_loss: 0.3106 - val_accuracy: 0.8867\n",
            "Epoch 10/20\n",
            "30/30 [==============================] - 2s 66ms/step - loss: 0.1583 - accuracy: 0.9479 - val_loss: 0.3307 - val_accuracy: 0.8887\n",
            "Epoch 11/20\n",
            "30/30 [==============================] - 2s 68ms/step - loss: 0.1451 - accuracy: 0.9540 - val_loss: 0.3347 - val_accuracy: 0.8880\n",
            "Epoch 12/20\n",
            "30/30 [==============================] - 2s 82ms/step - loss: 0.1307 - accuracy: 0.9581 - val_loss: 0.3893 - val_accuracy: 0.8859\n",
            "Epoch 13/20\n",
            "30/30 [==============================] - 2s 56ms/step - loss: 0.1215 - accuracy: 0.9623 - val_loss: 0.3788 - val_accuracy: 0.8849\n",
            "Epoch 14/20\n",
            "30/30 [==============================] - 1s 34ms/step - loss: 0.1096 - accuracy: 0.9655 - val_loss: 0.4140 - val_accuracy: 0.8856\n",
            "Epoch 15/20\n",
            "30/30 [==============================] - 1s 36ms/step - loss: 0.1008 - accuracy: 0.9673 - val_loss: 0.4105 - val_accuracy: 0.8849\n",
            "Epoch 16/20\n",
            "30/30 [==============================] - 1s 37ms/step - loss: 0.0944 - accuracy: 0.9692 - val_loss: 0.4581 - val_accuracy: 0.8851\n",
            "Epoch 17/20\n",
            "30/30 [==============================] - 1s 37ms/step - loss: 0.0892 - accuracy: 0.9703 - val_loss: 0.4654 - val_accuracy: 0.8844\n",
            "Epoch 18/20\n",
            "30/30 [==============================] - 1s 38ms/step - loss: 0.0816 - accuracy: 0.9738 - val_loss: 0.5204 - val_accuracy: 0.8781\n",
            "Epoch 19/20\n",
            "30/30 [==============================] - 1s 36ms/step - loss: 0.0792 - accuracy: 0.9742 - val_loss: 0.5375 - val_accuracy: 0.8851\n",
            "Epoch 20/20\n",
            "30/30 [==============================] - 1s 36ms/step - loss: 0.0749 - accuracy: 0.9743 - val_loss: 0.5398 - val_accuracy: 0.8827\n"
          ]
        }
      ]
    }
  ]
}